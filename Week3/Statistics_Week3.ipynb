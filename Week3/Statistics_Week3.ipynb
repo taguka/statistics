{
 "cells": [
  {
   "cell_type": "code",
   "execution_count": 238,
   "metadata": {
    "collapsed": false
   },
   "outputs": [
    {
     "name": "stdout",
     "output_type": "stream",
     "text": [
      "Populating the interactive namespace from numpy and matplotlib\n"
     ]
    }
   ],
   "source": [
    "import pandas as pd\n",
    "import numpy as np\n",
    "import scipy as sc\n",
    "from statsmodels.stats.descriptivestats import sign_test\n",
    "from statsmodels.sandbox.stats.multicomp import multipletests \n",
    "from scipy import stats\n",
    "%pylab inline"
   ]
  },
  {
   "cell_type": "markdown",
   "metadata": {},
   "source": [
    "Есть ли связь между неграмотностью и рождаемостью? Для 94 стран, уровень неграмотности женщин в которых больше 5%,\n",
    "известны доля неграмотных среди женщин старше 15 (на 2003 год) и средняя рождаемость на одну женщину (на 2005 год).\n",
    "Чему равен выборочный коэффициент корреляции Пирсона между этими двумя признаками? \n",
    "Округлите до четырёх знаков после десятичной точки. "
   ]
  },
  {
   "cell_type": "code",
   "execution_count": 159,
   "metadata": {
    "collapsed": false
   },
   "outputs": [],
   "source": [
    "df=pd.read_csv('C:\\\\Study\\\\Stats\\\\week_3\\\\illiteracy.txt', header=0, sep='\\t')"
   ]
  },
  {
   "cell_type": "code",
   "execution_count": 160,
   "metadata": {
    "collapsed": false
   },
   "outputs": [
    {
     "data": {
      "text/html": [
       "<div>\n",
       "<table border=\"1\" class=\"dataframe\">\n",
       "  <thead>\n",
       "    <tr style=\"text-align: right;\">\n",
       "      <th></th>\n",
       "      <th>Illit</th>\n",
       "      <th>Births</th>\n",
       "    </tr>\n",
       "  </thead>\n",
       "  <tbody>\n",
       "    <tr>\n",
       "      <th>Illit</th>\n",
       "      <td>1.000000</td>\n",
       "      <td>0.768663</td>\n",
       "    </tr>\n",
       "    <tr>\n",
       "      <th>Births</th>\n",
       "      <td>0.768663</td>\n",
       "      <td>1.000000</td>\n",
       "    </tr>\n",
       "  </tbody>\n",
       "</table>\n",
       "</div>"
      ],
      "text/plain": [
       "           Illit    Births\n",
       "Illit   1.000000  0.768663\n",
       "Births  0.768663  1.000000"
      ]
     },
     "execution_count": 160,
     "metadata": {},
     "output_type": "execute_result"
    }
   ],
   "source": [
    "df.corr()"
   ]
  },
  {
   "cell_type": "code",
   "execution_count": 161,
   "metadata": {
    "collapsed": false
   },
   "outputs": [
    {
     "data": {
      "text/html": [
       "<div>\n",
       "<table border=\"1\" class=\"dataframe\">\n",
       "  <thead>\n",
       "    <tr style=\"text-align: right;\">\n",
       "      <th></th>\n",
       "      <th>Illit</th>\n",
       "      <th>Births</th>\n",
       "    </tr>\n",
       "  </thead>\n",
       "  <tbody>\n",
       "    <tr>\n",
       "      <th>Illit</th>\n",
       "      <td>1.000000</td>\n",
       "      <td>0.752962</td>\n",
       "    </tr>\n",
       "    <tr>\n",
       "      <th>Births</th>\n",
       "      <td>0.752962</td>\n",
       "      <td>1.000000</td>\n",
       "    </tr>\n",
       "  </tbody>\n",
       "</table>\n",
       "</div>"
      ],
      "text/plain": [
       "           Illit    Births\n",
       "Illit   1.000000  0.752962\n",
       "Births  0.752962  1.000000"
      ]
     },
     "execution_count": 161,
     "metadata": {},
     "output_type": "execute_result"
    }
   ],
   "source": [
    "df.corr('spearman') "
   ]
  },
  {
   "cell_type": "markdown",
   "metadata": {},
   "source": [
    "Для 61 большого города в Англии и Уэльсе известны средняя годовая смертность на 100000 населения \n",
    "(по данным 1958–1964) и концентрация кальция в питьевой воде (в частях на миллион). \n",
    "Есть ли связь между жёсткостью воды и средней годовой смертностью? \n",
    "Посчитайте значение коэффициента корреляции Пирсона между этими признаками, округлите его до четырёх \n",
    "знаков после десятичной точки.\n",
    "Чем выше концентрация кальция, тем жёстче вода. \n",
    "Города дополнительно поделены на северные и южные."
   ]
  },
  {
   "cell_type": "code",
   "execution_count": 162,
   "metadata": {
    "collapsed": true
   },
   "outputs": [],
   "source": [
    "df=pd.read_csv('C:\\Study\\Stats\\week_3\\water.txt', sep='\\t')"
   ]
  },
  {
   "cell_type": "code",
   "execution_count": 163,
   "metadata": {
    "collapsed": false
   },
   "outputs": [
    {
     "data": {
      "text/html": [
       "<div>\n",
       "<table border=\"1\" class=\"dataframe\">\n",
       "  <thead>\n",
       "    <tr style=\"text-align: right;\">\n",
       "      <th></th>\n",
       "      <th>location</th>\n",
       "      <th>town</th>\n",
       "      <th>mortality</th>\n",
       "      <th>hardness</th>\n",
       "    </tr>\n",
       "  </thead>\n",
       "  <tbody>\n",
       "    <tr>\n",
       "      <th>0</th>\n",
       "      <td>South</td>\n",
       "      <td>Bath</td>\n",
       "      <td>1247</td>\n",
       "      <td>105</td>\n",
       "    </tr>\n",
       "    <tr>\n",
       "      <th>1</th>\n",
       "      <td>North</td>\n",
       "      <td>Birkenhead</td>\n",
       "      <td>1668</td>\n",
       "      <td>17</td>\n",
       "    </tr>\n",
       "    <tr>\n",
       "      <th>2</th>\n",
       "      <td>South</td>\n",
       "      <td>Birmingham</td>\n",
       "      <td>1466</td>\n",
       "      <td>5</td>\n",
       "    </tr>\n",
       "    <tr>\n",
       "      <th>3</th>\n",
       "      <td>North</td>\n",
       "      <td>Blackburn</td>\n",
       "      <td>1800</td>\n",
       "      <td>14</td>\n",
       "    </tr>\n",
       "    <tr>\n",
       "      <th>4</th>\n",
       "      <td>North</td>\n",
       "      <td>Blackpool</td>\n",
       "      <td>1609</td>\n",
       "      <td>18</td>\n",
       "    </tr>\n",
       "  </tbody>\n",
       "</table>\n",
       "</div>"
      ],
      "text/plain": [
       "  location        town  mortality  hardness\n",
       "0    South        Bath       1247       105\n",
       "1    North  Birkenhead       1668        17\n",
       "2    South  Birmingham       1466         5\n",
       "3    North   Blackburn       1800        14\n",
       "4    North   Blackpool       1609        18"
      ]
     },
     "execution_count": 163,
     "metadata": {},
     "output_type": "execute_result"
    }
   ],
   "source": [
    "df.head()"
   ]
  },
  {
   "cell_type": "code",
   "execution_count": 164,
   "metadata": {
    "collapsed": false
   },
   "outputs": [
    {
     "data": {
      "text/plain": [
       "-0.65484862320424642"
      ]
     },
     "execution_count": 164,
     "metadata": {},
     "output_type": "execute_result"
    }
   ],
   "source": [
    "df.corr()['mortality'].hardness"
   ]
  },
  {
   "cell_type": "code",
   "execution_count": 165,
   "metadata": {
    "collapsed": false
   },
   "outputs": [
    {
     "data": {
      "text/plain": [
       "-0.63166461891665016"
      ]
     },
     "execution_count": 165,
     "metadata": {},
     "output_type": "execute_result"
    }
   ],
   "source": [
    "df.corr('spearman')['mortality'].hardness"
   ]
  },
  {
   "cell_type": "code",
   "execution_count": 166,
   "metadata": {
    "collapsed": true
   },
   "outputs": [],
   "source": [
    "df_south=df[df['location']=='South']\n",
    "df_north=df[df['location']=='North']"
   ]
  },
  {
   "cell_type": "code",
   "execution_count": 167,
   "metadata": {
    "collapsed": false
   },
   "outputs": [
    {
     "name": "stdout",
     "output_type": "stream",
     "text": [
      "Pearson south: -0.602153271548\n",
      "Pearson north: -0.368597838329\n"
     ]
    }
   ],
   "source": [
    "print('Pearson south:', df_south.corr()['mortality'].hardness)\n",
    "print('Pearson north:', df_north.corr()['mortality'].hardness)"
   ]
  },
  {
   "cell_type": "markdown",
   "metadata": {},
   "source": [
    "Среди респондентов General Social Survey 2014 года хотя бы раз в месяц проводят вечер в баре 203 женщины и 239 мужчин; \n",
    "реже, чем раз в месяц, это делают 718 женщин и 515 мужчин.\n",
    "Посчитайте значение коэффициента корреляции Мэтьюса между полом и частотой похода в бары. \n",
    "Округлите значение до трёх знаков после десятичной точки."
   ]
  },
  {
   "cell_type": "code",
   "execution_count": 168,
   "metadata": {
    "collapsed": true
   },
   "outputs": [],
   "source": [
    "def corr_matthews(a,b,c,d):\n",
    "    return (a*d-b*c)/np.sqrt((a+b)*(a+c)*(b+d)*(c+d))"
   ]
  },
  {
   "cell_type": "code",
   "execution_count": 169,
   "metadata": {
    "collapsed": false
   },
   "outputs": [
    {
     "name": "stdout",
     "output_type": "stream",
     "text": [
      "-0.109002374587\n"
     ]
    }
   ],
   "source": [
    "print(corr_matthews(203,718,239,515))"
   ]
  },
  {
   "cell_type": "markdown",
   "metadata": {},
   "source": [
    "Проверьте, значимо ли коэффициент корреляции Мэтьюса отличается от нуля. Посчитайте достигаемый уровень значимости"
   ]
  },
  {
   "cell_type": "code",
   "execution_count": 170,
   "metadata": {
    "collapsed": true
   },
   "outputs": [],
   "source": [
    "from scipy.stats import chi2_contingency\n",
    "import scipy"
   ]
  },
  {
   "cell_type": "code",
   "execution_count": 171,
   "metadata": {
    "collapsed": false
   },
   "outputs": [],
   "source": [
    "input_data=np.array(([203,718],[239,515]))"
   ]
  },
  {
   "cell_type": "code",
   "execution_count": 172,
   "metadata": {
    "collapsed": true
   },
   "outputs": [],
   "source": [
    "res=chi2_contingency(input_data)"
   ]
  },
  {
   "cell_type": "code",
   "execution_count": 173,
   "metadata": {
    "collapsed": false
   },
   "outputs": [
    {
     "data": {
      "text/plain": [
       "1.0558987006638725e-05"
      ]
     },
     "execution_count": 173,
     "metadata": {},
     "output_type": "execute_result"
    }
   ],
   "source": [
    "res[1]"
   ]
  },
  {
   "cell_type": "markdown",
   "metadata": {},
   "source": [
    "Отличаются ли доля мужчин и доля женщин, относительно часто проводящих вечера в баре? \n",
    "Постройте 95% доверительный интервал для разности долей, вычитая долю женщин из доли мужчин. \n",
    "Чему равна его нижняя граница? "
   ]
  },
  {
   "cell_type": "code",
   "execution_count": 174,
   "metadata": {
    "collapsed": true
   },
   "outputs": [],
   "source": [
    "n1=239+515\n",
    "n2=203+718\n",
    "a=239\n",
    "b=203\n",
    "p1=a/n1\n",
    "p2=b/n2"
   ]
  },
  {
   "cell_type": "code",
   "execution_count": 175,
   "metadata": {
    "collapsed": false
   },
   "outputs": [],
   "source": [
    "def proportions_confint_diff_ind(n1,n2,p1,p2, alpha = 0.05):    \n",
    "    z = scipy.stats.norm.ppf(1 - alpha / 2.)      \n",
    "    left_boundary = (p1 - p2) - z * np.sqrt(p1 * (1 - p1)/n1 + p2 * (1 - p2)/n2)\n",
    "    right_boundary = (p1 - p2) + z * np.sqrt(p1 * (1 - p1)/n1 + p2 * (1 - p2)/ n2)\n",
    "    return (left_boundary, right_boundary)"
   ]
  },
  {
   "cell_type": "code",
   "execution_count": 176,
   "metadata": {
    "collapsed": false
   },
   "outputs": [
    {
     "name": "stdout",
     "output_type": "stream",
     "text": [
      "(0.053905233215813156, 0.13922183141523897)\n"
     ]
    }
   ],
   "source": [
    "print(proportions_confint_diff_ind(n1,n2,p1,p2))"
   ]
  },
  {
   "cell_type": "code",
   "execution_count": 177,
   "metadata": {
    "collapsed": false
   },
   "outputs": [],
   "source": [
    "def proportions_diff_z_stat_ind(n1, n2, p1, p2):\n",
    "    P = float(p1*n1 + p2*n2) / (n1 + n2)\n",
    "    return (p1 - p2) / np.sqrt(P * (1 - P) * (1. / n1 + 1. / n2))"
   ]
  },
  {
   "cell_type": "code",
   "execution_count": 178,
   "metadata": {
    "collapsed": false
   },
   "outputs": [],
   "source": [
    "z_stat=proportions_diff_z_stat_ind(n1, n2, p1, p2)"
   ]
  },
  {
   "cell_type": "code",
   "execution_count": 179,
   "metadata": {
    "collapsed": false
   },
   "outputs": [
    {
     "name": "stdout",
     "output_type": "stream",
     "text": [
      "8.15345308958e-06\n"
     ]
    }
   ],
   "source": [
    "print(2 * (1 - scipy.stats.norm.cdf(np.abs(z_stat))))"
   ]
  },
  {
   "cell_type": "markdown",
   "metadata": {},
   "source": [
    "Чему равно значение статистики хи-квадрат для этой таблицы сопряжённости? \n",
    "Округлите ответ до четырёх знаков после десятичной точки."
   ]
  },
  {
   "cell_type": "code",
   "execution_count": 180,
   "metadata": {
    "collapsed": true
   },
   "outputs": [],
   "source": [
    "arr=np.array(([197, 111, 33],[382,685,331],[110,342,333]))"
   ]
  },
  {
   "cell_type": "code",
   "execution_count": 181,
   "metadata": {
    "collapsed": false
   },
   "outputs": [],
   "source": [
    "res=chi2_contingency(arr)"
   ]
  },
  {
   "cell_type": "code",
   "execution_count": 182,
   "metadata": {
    "collapsed": false
   },
   "outputs": [
    {
     "data": {
      "text/plain": [
       "293.68311039689746"
      ]
     },
     "execution_count": 182,
     "metadata": {},
     "output_type": "execute_result"
    }
   ],
   "source": [
    "res[0]"
   ]
  },
  {
   "cell_type": "code",
   "execution_count": 183,
   "metadata": {
    "collapsed": false
   },
   "outputs": [
    {
     "data": {
      "text/plain": [
       "2.4964299580093467e-62"
      ]
     },
     "execution_count": 183,
     "metadata": {},
     "output_type": "execute_result"
    }
   ],
   "source": [
    "res[1]"
   ]
  },
  {
   "cell_type": "code",
   "execution_count": 184,
   "metadata": {
    "collapsed": false
   },
   "outputs": [
    {
     "data": {
      "text/plain": [
       "0.2412013934500338"
      ]
     },
     "execution_count": 184,
     "metadata": {},
     "output_type": "execute_result"
    }
   ],
   "source": [
    "Kramer=np.sqrt(res[0]/(np.sum(arr*2)))\n",
    "Kramer"
   ]
  },
  {
   "cell_type": "markdown",
   "metadata": {
    "collapsed": true
   },
   "source": [
    "Классификатор C4.5 и три его модификации: с оптимизацией гиперпараметра m, гиперпараметра cf и с одновременной \n",
    "оптимизацией обоих гиперпараметров. Эти четыре классификатора сравнивались на 14 наборах данных. \n",
    "На каждом датасете был посчитан AUC каждого классификатора.\n",
    "Используя критерий знаковых рангов, проведите попарное сравнение каждого классификатора с каждым. \n",
    "Выберите два классификатора, различие между которыми наиболее статистически значимо"
   ]
  },
  {
   "cell_type": "code",
   "execution_count": 185,
   "metadata": {
    "collapsed": false
   },
   "outputs": [],
   "source": [
    "df=pd.read_csv('C:\\\\Study\\\\Stats\\\\week_3\\\\AUCs.txt', sep='\\t')"
   ]
  },
  {
   "cell_type": "code",
   "execution_count": 186,
   "metadata": {
    "collapsed": false
   },
   "outputs": [
    {
     "data": {
      "text/html": [
       "<div>\n",
       "<table border=\"1\" class=\"dataframe\">\n",
       "  <thead>\n",
       "    <tr style=\"text-align: right;\">\n",
       "      <th></th>\n",
       "      <th>Unnamed: 0</th>\n",
       "      <th>C4.5</th>\n",
       "      <th>C4.5+m</th>\n",
       "      <th>C4.5+cf</th>\n",
       "      <th>C4.5+m+cf</th>\n",
       "    </tr>\n",
       "  </thead>\n",
       "  <tbody>\n",
       "    <tr>\n",
       "      <th>0</th>\n",
       "      <td>adult (sample)</td>\n",
       "      <td>0.763</td>\n",
       "      <td>0.768</td>\n",
       "      <td>0.771</td>\n",
       "      <td>0.798</td>\n",
       "    </tr>\n",
       "    <tr>\n",
       "      <th>1</th>\n",
       "      <td>breast cancer</td>\n",
       "      <td>0.599</td>\n",
       "      <td>0.591</td>\n",
       "      <td>0.590</td>\n",
       "      <td>0.569</td>\n",
       "    </tr>\n",
       "    <tr>\n",
       "      <th>2</th>\n",
       "      <td>breast cancer wisconsin</td>\n",
       "      <td>0.954</td>\n",
       "      <td>0.971</td>\n",
       "      <td>0.968</td>\n",
       "      <td>0.967</td>\n",
       "    </tr>\n",
       "    <tr>\n",
       "      <th>3</th>\n",
       "      <td>cmc</td>\n",
       "      <td>0.628</td>\n",
       "      <td>0.661</td>\n",
       "      <td>0.654</td>\n",
       "      <td>0.657</td>\n",
       "    </tr>\n",
       "    <tr>\n",
       "      <th>4</th>\n",
       "      <td>ionosphere</td>\n",
       "      <td>0.882</td>\n",
       "      <td>0.888</td>\n",
       "      <td>0.886</td>\n",
       "      <td>0.898</td>\n",
       "    </tr>\n",
       "    <tr>\n",
       "      <th>5</th>\n",
       "      <td>iris</td>\n",
       "      <td>0.936</td>\n",
       "      <td>0.931</td>\n",
       "      <td>0.916</td>\n",
       "      <td>0.931</td>\n",
       "    </tr>\n",
       "    <tr>\n",
       "      <th>6</th>\n",
       "      <td>liver disorders</td>\n",
       "      <td>0.661</td>\n",
       "      <td>0.668</td>\n",
       "      <td>0.609</td>\n",
       "      <td>0.685</td>\n",
       "    </tr>\n",
       "    <tr>\n",
       "      <th>7</th>\n",
       "      <td>lung cancer</td>\n",
       "      <td>0.583</td>\n",
       "      <td>0.583</td>\n",
       "      <td>0.563</td>\n",
       "      <td>0.625</td>\n",
       "    </tr>\n",
       "    <tr>\n",
       "      <th>8</th>\n",
       "      <td>lymphography</td>\n",
       "      <td>0.775</td>\n",
       "      <td>0.838</td>\n",
       "      <td>0.866</td>\n",
       "      <td>0.875</td>\n",
       "    </tr>\n",
       "    <tr>\n",
       "      <th>9</th>\n",
       "      <td>mushroom</td>\n",
       "      <td>1.000</td>\n",
       "      <td>1.000</td>\n",
       "      <td>1.000</td>\n",
       "      <td>1.000</td>\n",
       "    </tr>\n",
       "    <tr>\n",
       "      <th>10</th>\n",
       "      <td>primary tumor</td>\n",
       "      <td>0.940</td>\n",
       "      <td>0.962</td>\n",
       "      <td>0.965</td>\n",
       "      <td>0.962</td>\n",
       "    </tr>\n",
       "    <tr>\n",
       "      <th>11</th>\n",
       "      <td>rheum</td>\n",
       "      <td>0.619</td>\n",
       "      <td>0.666</td>\n",
       "      <td>0.614</td>\n",
       "      <td>0.669</td>\n",
       "    </tr>\n",
       "    <tr>\n",
       "      <th>12</th>\n",
       "      <td>voting</td>\n",
       "      <td>0.972</td>\n",
       "      <td>0.981</td>\n",
       "      <td>0.975</td>\n",
       "      <td>0.975</td>\n",
       "    </tr>\n",
       "    <tr>\n",
       "      <th>13</th>\n",
       "      <td>wine</td>\n",
       "      <td>0.957</td>\n",
       "      <td>0.978</td>\n",
       "      <td>0.946</td>\n",
       "      <td>0.970</td>\n",
       "    </tr>\n",
       "  </tbody>\n",
       "</table>\n",
       "</div>"
      ],
      "text/plain": [
       "                 Unnamed: 0   C4.5  C4.5+m  C4.5+cf  C4.5+m+cf\n",
       "0            adult (sample)  0.763   0.768    0.771      0.798\n",
       "1             breast cancer  0.599   0.591    0.590      0.569\n",
       "2   breast cancer wisconsin  0.954   0.971    0.968      0.967\n",
       "3                       cmc  0.628   0.661    0.654      0.657\n",
       "4                ionosphere  0.882   0.888    0.886      0.898\n",
       "5                      iris  0.936   0.931    0.916      0.931\n",
       "6           liver disorders  0.661   0.668    0.609      0.685\n",
       "7               lung cancer  0.583   0.583    0.563      0.625\n",
       "8              lymphography  0.775   0.838    0.866      0.875\n",
       "9                  mushroom  1.000   1.000    1.000      1.000\n",
       "10            primary tumor  0.940   0.962    0.965      0.962\n",
       "11                    rheum  0.619   0.666    0.614      0.669\n",
       "12                   voting  0.972   0.981    0.975      0.975\n",
       "13                     wine  0.957   0.978    0.946      0.970"
      ]
     },
     "execution_count": 186,
     "metadata": {},
     "output_type": "execute_result"
    }
   ],
   "source": [
    "df"
   ]
  },
  {
   "cell_type": "code",
   "execution_count": 187,
   "metadata": {
    "collapsed": false
   },
   "outputs": [
    {
     "data": {
      "image/png": "[encoded data removed]",
      "text/plain": [
       "<matplotlib.figure.Figure at 0xd522230>"
      ]
     },
     "metadata": {},
     "output_type": "display_data"
    }
   ],
   "source": [
    "pylab.figure(figsize=(12,4))\n",
    "\n",
    "pylab.subplot(2,2,1)\n",
    "pylab.grid()\n",
    "pylab.hist(df['C4.5'], color = 'r')\n",
    "pylab.xlabel('1')\n",
    "\n",
    "pylab.subplot(2,2,2)\n",
    "pylab.grid()\n",
    "pylab.hist(df['C4.5+m'], color = 'b')\n",
    "pylab.xlabel('2')\n",
    "\n",
    "pylab.subplot(2,2,3)\n",
    "pylab.grid()\n",
    "pylab.hist(df['C4.5+cf'], color = 'g')\n",
    "pylab.xlabel('3')\n",
    "\n",
    "pylab.subplot(2,2,4)\n",
    "pylab.grid()\n",
    "pylab.hist(df['C4.5+m+cf'], color = 'y')\n",
    "pylab.xlabel('4')\n",
    "\n",
    "pylab.show()"
   ]
  },
  {
   "cell_type": "code",
   "execution_count": 188,
   "metadata": {
    "collapsed": false
   },
   "outputs": [
    {
     "data": {
      "text/plain": [
       "array(['C4.5', 'C4.5+m', 'C4.5+cf', 'C4.5+m+cf'], dtype=object)"
      ]
     },
     "execution_count": 188,
     "metadata": {},
     "output_type": "execute_result"
    }
   ],
   "source": [
    "columns=df.columns.values[1:]\n",
    "columns"
   ]
  },
  {
   "cell_type": "code",
   "execution_count": 189,
   "metadata": {
    "collapsed": false
   },
   "outputs": [],
   "source": [
    "corr_data=[]\n",
    "for i, col_1 in enumerate(columns):\n",
    "    for j, col_2 in enumerate(columns):\n",
    "        if j>i:\n",
    "            M,p=(stats.wilcoxon(df[col_2] - df[col_1]))\n",
    "            corr_data.append([col_1, col_2, M, p])\n"
   ]
  },
  {
   "cell_type": "code",
   "execution_count": 190,
   "metadata": {
    "collapsed": false
   },
   "outputs": [],
   "source": [
    " model_correlation=pd.DataFrame.from_records(corr_data)\n",
    " model_correlation.columns=['clf1','clf2','val','p_value']   "
   ]
  },
  {
   "cell_type": "code",
   "execution_count": 191,
   "metadata": {
    "collapsed": true
   },
   "outputs": [],
   "source": [
    "reject, p_corrected, a1, a2 = multipletests(model_correlation.p_value,alpha = 0.05, method = 'fdr_bh')\n",
    "model_correlation['p_fdr_bh']=p_corrected\n",
    "reject, p_corrected, a1, a2 = multipletests(model_correlation.p_value,alpha = 0.05, method = 'holm')\n",
    "model_correlation['p_holm']=p_corrected"
   ]
  },
  {
   "cell_type": "code",
   "execution_count": 192,
   "metadata": {
    "collapsed": false
   },
   "outputs": [
    {
     "data": {
      "text/html": [
       "<div>\n",
       "<table border=\"1\" class=\"dataframe\">\n",
       "  <thead>\n",
       "    <tr style=\"text-align: right;\">\n",
       "      <th></th>\n",
       "      <th>clf1</th>\n",
       "      <th>clf2</th>\n",
       "      <th>val</th>\n",
       "      <th>p_value</th>\n",
       "      <th>p_fdr_bh</th>\n",
       "      <th>p_holm</th>\n",
       "    </tr>\n",
       "  </thead>\n",
       "  <tbody>\n",
       "    <tr>\n",
       "      <th>0</th>\n",
       "      <td>C4.5</td>\n",
       "      <td>C4.5+m</td>\n",
       "      <td>6.5</td>\n",
       "      <td>0.010757</td>\n",
       "      <td>0.045818</td>\n",
       "      <td>0.064543</td>\n",
       "    </tr>\n",
       "    <tr>\n",
       "      <th>1</th>\n",
       "      <td>C4.5</td>\n",
       "      <td>C4.5+cf</td>\n",
       "      <td>43.0</td>\n",
       "      <td>0.861262</td>\n",
       "      <td>0.861262</td>\n",
       "      <td>0.861262</td>\n",
       "    </tr>\n",
       "    <tr>\n",
       "      <th>2</th>\n",
       "      <td>C4.5</td>\n",
       "      <td>C4.5+m+cf</td>\n",
       "      <td>11.0</td>\n",
       "      <td>0.015906</td>\n",
       "      <td>0.045818</td>\n",
       "      <td>0.079532</td>\n",
       "    </tr>\n",
       "    <tr>\n",
       "      <th>3</th>\n",
       "      <td>C4.5+m</td>\n",
       "      <td>C4.5+cf</td>\n",
       "      <td>17.0</td>\n",
       "      <td>0.046333</td>\n",
       "      <td>0.069499</td>\n",
       "      <td>0.138998</td>\n",
       "    </tr>\n",
       "    <tr>\n",
       "      <th>4</th>\n",
       "      <td>C4.5+m</td>\n",
       "      <td>C4.5+m+cf</td>\n",
       "      <td>22.0</td>\n",
       "      <td>0.327826</td>\n",
       "      <td>0.393391</td>\n",
       "      <td>0.655651</td>\n",
       "    </tr>\n",
       "    <tr>\n",
       "      <th>5</th>\n",
       "      <td>C4.5+cf</td>\n",
       "      <td>C4.5+m+cf</td>\n",
       "      <td>10.0</td>\n",
       "      <td>0.022909</td>\n",
       "      <td>0.045818</td>\n",
       "      <td>0.091636</td>\n",
       "    </tr>\n",
       "  </tbody>\n",
       "</table>\n",
       "</div>"
      ],
      "text/plain": [
       "      clf1       clf2   val   p_value  p_fdr_bh    p_holm\n",
       "0     C4.5     C4.5+m   6.5  0.010757  0.045818  0.064543\n",
       "1     C4.5    C4.5+cf  43.0  0.861262  0.861262  0.861262\n",
       "2     C4.5  C4.5+m+cf  11.0  0.015906  0.045818  0.079532\n",
       "3   C4.5+m    C4.5+cf  17.0  0.046333  0.069499  0.138998\n",
       "4   C4.5+m  C4.5+m+cf  22.0  0.327826  0.393391  0.655651\n",
       "5  C4.5+cf  C4.5+m+cf  10.0  0.022909  0.045818  0.091636"
      ]
     },
     "execution_count": 192,
     "metadata": {},
     "output_type": "execute_result"
    }
   ],
   "source": [
    "model_correlation"
   ]
  },
  {
   "cell_type": "markdown",
   "metadata": {
    "collapsed": true
   },
   "source": [
    "Давайте проанализируем данные опроса 4361 женщин из Ботсваны\n",
    "Давайте научимся оценивать количество детей ceb по остальным признакам.\n",
    "Сколько разных значений принимает признак religion?"
   ]
  },
  {
   "cell_type": "code",
   "execution_count": 304,
   "metadata": {
    "collapsed": false
   },
   "outputs": [],
   "source": [
    "df=pd.read_csv('C:\\\\Study\\\\Stats\\\\week_3\\\\botswana.tsv', sep='\\t')"
   ]
  },
  {
   "cell_type": "code",
   "execution_count": 305,
   "metadata": {
    "collapsed": false
   },
   "outputs": [
    {
     "data": {
      "text/plain": [
       "4"
      ]
     },
     "execution_count": 305,
     "metadata": {},
     "output_type": "execute_result"
    }
   ],
   "source": [
    "np.size(df['religion'].unique())"
   ]
  },
  {
   "cell_type": "code",
   "execution_count": 306,
   "metadata": {
    "collapsed": false
   },
   "outputs": [
    {
     "data": {
      "text/plain": [
       "(1834, 15)"
      ]
     },
     "execution_count": 306,
     "metadata": {},
     "output_type": "execute_result"
    }
   ],
   "source": [
    "df_mod=df.dropna()\n",
    "df_mod.shape"
   ]
  },
  {
   "cell_type": "code",
   "execution_count": 307,
   "metadata": {
    "collapsed": false
   },
   "outputs": [
    {
     "data": {
      "text/html": [
       "<div>\n",
       "<table border=\"1\" class=\"dataframe\">\n",
       "  <thead>\n",
       "    <tr style=\"text-align: right;\">\n",
       "      <th></th>\n",
       "      <th>ceb</th>\n",
       "      <th>age</th>\n",
       "      <th>educ</th>\n",
       "      <th>religion</th>\n",
       "      <th>idlnchld</th>\n",
       "      <th>knowmeth</th>\n",
       "      <th>usemeth</th>\n",
       "      <th>evermarr</th>\n",
       "      <th>agefm</th>\n",
       "      <th>heduc</th>\n",
       "      <th>urban</th>\n",
       "      <th>electric</th>\n",
       "      <th>radio</th>\n",
       "      <th>tv</th>\n",
       "      <th>bicycle</th>\n",
       "    </tr>\n",
       "  </thead>\n",
       "  <tbody>\n",
       "    <tr>\n",
       "      <th>0</th>\n",
       "      <td>0</td>\n",
       "      <td>18</td>\n",
       "      <td>10</td>\n",
       "      <td>catholic</td>\n",
       "      <td>4.0</td>\n",
       "      <td>1.0</td>\n",
       "      <td>1.0</td>\n",
       "      <td>0</td>\n",
       "      <td>NaN</td>\n",
       "      <td>NaN</td>\n",
       "      <td>1</td>\n",
       "      <td>1.0</td>\n",
       "      <td>1.0</td>\n",
       "      <td>1.0</td>\n",
       "      <td>1.0</td>\n",
       "    </tr>\n",
       "    <tr>\n",
       "      <th>1</th>\n",
       "      <td>2</td>\n",
       "      <td>43</td>\n",
       "      <td>11</td>\n",
       "      <td>protestant</td>\n",
       "      <td>2.0</td>\n",
       "      <td>1.0</td>\n",
       "      <td>1.0</td>\n",
       "      <td>1</td>\n",
       "      <td>20.0</td>\n",
       "      <td>14.0</td>\n",
       "      <td>1</td>\n",
       "      <td>1.0</td>\n",
       "      <td>1.0</td>\n",
       "      <td>1.0</td>\n",
       "      <td>1.0</td>\n",
       "    </tr>\n",
       "    <tr>\n",
       "      <th>2</th>\n",
       "      <td>0</td>\n",
       "      <td>49</td>\n",
       "      <td>4</td>\n",
       "      <td>spirit</td>\n",
       "      <td>4.0</td>\n",
       "      <td>1.0</td>\n",
       "      <td>0.0</td>\n",
       "      <td>1</td>\n",
       "      <td>22.0</td>\n",
       "      <td>1.0</td>\n",
       "      <td>1</td>\n",
       "      <td>1.0</td>\n",
       "      <td>1.0</td>\n",
       "      <td>0.0</td>\n",
       "      <td>0.0</td>\n",
       "    </tr>\n",
       "    <tr>\n",
       "      <th>3</th>\n",
       "      <td>0</td>\n",
       "      <td>24</td>\n",
       "      <td>12</td>\n",
       "      <td>other</td>\n",
       "      <td>2.0</td>\n",
       "      <td>1.0</td>\n",
       "      <td>0.0</td>\n",
       "      <td>0</td>\n",
       "      <td>NaN</td>\n",
       "      <td>NaN</td>\n",
       "      <td>1</td>\n",
       "      <td>1.0</td>\n",
       "      <td>1.0</td>\n",
       "      <td>1.0</td>\n",
       "      <td>1.0</td>\n",
       "    </tr>\n",
       "    <tr>\n",
       "      <th>4</th>\n",
       "      <td>3</td>\n",
       "      <td>32</td>\n",
       "      <td>13</td>\n",
       "      <td>other</td>\n",
       "      <td>3.0</td>\n",
       "      <td>1.0</td>\n",
       "      <td>1.0</td>\n",
       "      <td>1</td>\n",
       "      <td>24.0</td>\n",
       "      <td>12.0</td>\n",
       "      <td>1</td>\n",
       "      <td>1.0</td>\n",
       "      <td>1.0</td>\n",
       "      <td>1.0</td>\n",
       "      <td>1.0</td>\n",
       "    </tr>\n",
       "  </tbody>\n",
       "</table>\n",
       "</div>"
      ],
      "text/plain": [
       "   ceb  age  educ    religion  idlnchld  knowmeth  usemeth  evermarr  agefm  \\\n",
       "0    0   18    10    catholic       4.0       1.0      1.0         0    NaN   \n",
       "1    2   43    11  protestant       2.0       1.0      1.0         1   20.0   \n",
       "2    0   49     4      spirit       4.0       1.0      0.0         1   22.0   \n",
       "3    0   24    12       other       2.0       1.0      0.0         0    NaN   \n",
       "4    3   32    13       other       3.0       1.0      1.0         1   24.0   \n",
       "\n",
       "   heduc  urban  electric  radio   tv  bicycle  \n",
       "0    NaN      1       1.0    1.0  1.0      1.0  \n",
       "1   14.0      1       1.0    1.0  1.0      1.0  \n",
       "2    1.0      1       1.0    1.0  0.0      0.0  \n",
       "3    NaN      1       1.0    1.0  1.0      1.0  \n",
       "4   12.0      1       1.0    1.0  1.0      1.0  "
      ]
     },
     "execution_count": 307,
     "metadata": {},
     "output_type": "execute_result"
    }
   ],
   "source": [
    "df.head()"
   ]
  },
  {
   "cell_type": "code",
   "execution_count": 308,
   "metadata": {
    "collapsed": true
   },
   "outputs": [],
   "source": [
    "df['nevermarr']=df['agefm'].apply(lambda x: 1 if np.isnan(x) else 0)\n",
    "df=df.drop(['evermarr'], axis=1)\n",
    "df['agefm']=df['agefm'].fillna(0)\n",
    "df.loc[(df['nevermarr']==1)&(df['heduc'].isnull()),'heduc']=-1"
   ]
  },
  {
   "cell_type": "code",
   "execution_count": 309,
   "metadata": {
    "collapsed": false
   },
   "outputs": [
    {
     "data": {
      "text/plain": [
       "ceb            0\n",
       "age            0\n",
       "educ           0\n",
       "religion       0\n",
       "idlnchld     120\n",
       "knowmeth       7\n",
       "usemeth       71\n",
       "agefm          0\n",
       "heduc        123\n",
       "urban          0\n",
       "electric       3\n",
       "radio          2\n",
       "tv             2\n",
       "bicycle        3\n",
       "nevermarr      0\n",
       "dtype: int64"
      ]
     },
     "execution_count": 309,
     "metadata": {},
     "output_type": "execute_result"
    }
   ],
   "source": [
    "df.isnull().sum()"
   ]
  },
  {
   "cell_type": "code",
   "execution_count": 310,
   "metadata": {
    "collapsed": false
   },
   "outputs": [],
   "source": [
    "\n",
    "df['idlnchld_noans']=df['idlnchld'].apply(lambda x: 1 if np.isnan(x) else 0)\n",
    "df['idlnchld']=df['idlnchld'].fillna(-1)\n",
    "df['heduc_noans']=df['heduc'].apply(lambda x: 1 if np.isnan(x) else 0)\n",
    "df['heduc']=df['heduc'].fillna(-2)\n",
    "df['usemeth_noans']=df['usemeth'].apply(lambda x: 1 if np.isnan(x) else 0)\n",
    "df['usemeth']=df['usemeth'].fillna(-1)"
   ]
  },
  {
   "cell_type": "code",
   "execution_count": 311,
   "metadata": {
    "collapsed": true
   },
   "outputs": [],
   "source": [
    "df=df.dropna()"
   ]
  },
  {
   "cell_type": "code",
   "execution_count": 312,
   "metadata": {
    "collapsed": false
   },
   "outputs": [
    {
     "data": {
      "text/plain": [
       "78264"
      ]
     },
     "execution_count": 312,
     "metadata": {},
     "output_type": "execute_result"
    }
   ],
   "source": [
    "df.shape[0]*df.shape[1]"
   ]
  },
  {
   "cell_type": "code",
   "execution_count": 313,
   "metadata": {
    "collapsed": false
   },
   "outputs": [
    {
     "data": {
      "text/plain": [
       "Index(['ceb', 'age', 'educ', 'religion', 'idlnchld', 'knowmeth', 'usemeth',\n",
       "       'agefm', 'heduc', 'urban', 'electric', 'radio', 'tv', 'bicycle',\n",
       "       'nevermarr', 'idlnchld_noans', 'heduc_noans', 'usemeth_noans'],\n",
       "      dtype='object')"
      ]
     },
     "execution_count": 313,
     "metadata": {},
     "output_type": "execute_result"
    }
   ],
   "source": [
    "df.columns"
   ]
  },
  {
   "cell_type": "markdown",
   "metadata": {},
   "source": [
    "Постройте регрессию количества детей ceb на все имеющиеся признаки методом smf.ols, как в разобранном до этого примере. \n",
    "Какой получился коэффициент детерминации R2? \n",
    "Округлите до трёх знаков после десятичной точки."
   ]
  },
  {
   "cell_type": "code",
   "execution_count": 314,
   "metadata": {
    "collapsed": true
   },
   "outputs": [],
   "source": [
    "import statsmodels.formula.api as smf\n",
    "import statsmodels.stats.api as sms"
   ]
  },
  {
   "cell_type": "code",
   "execution_count": 315,
   "metadata": {
    "collapsed": false
   },
   "outputs": [
    {
     "name": "stdout",
     "output_type": "stream",
     "text": [
      "                            OLS Regression Results                            \n",
      "==============================================================================\n",
      "Dep. Variable:                    ceb   R-squared:                       0.644\n",
      "Model:                            OLS   Adj. R-squared:                  0.643\n",
      "Method:                 Least Squares   F-statistic:                     412.5\n",
      "Date:                Fri, 22 Dec 2017   Prob (F-statistic):               0.00\n",
      "Time:                        11:41:53   Log-Likelihood:                -7732.1\n",
      "No. Observations:                4348   AIC:                         1.550e+04\n",
      "Df Residuals:                    4328   BIC:                         1.563e+04\n",
      "Df Model:                          19                                         \n",
      "Covariance Type:            nonrobust                                         \n",
      "==========================================================================================\n",
      "                             coef    std err          t      P>|t|      [95.0% Conf. Int.]\n",
      "------------------------------------------------------------------------------------------\n",
      "Intercept                 -1.0263      0.212     -4.835      0.000        -1.443    -0.610\n",
      "religion[T.other]         -0.0830      0.083     -1.001      0.317        -0.245     0.080\n",
      "religion[T.protestant]    -0.0149      0.082     -0.181      0.857        -0.176     0.146\n",
      "religion[T.spirit]        -0.0191      0.077     -0.248      0.804        -0.171     0.132\n",
      "age                        0.1703      0.003     51.891      0.000         0.164     0.177\n",
      "educ                      -0.0724      0.007     -9.843      0.000        -0.087    -0.058\n",
      "idlnchld                   0.0760      0.011      6.923      0.000         0.054     0.098\n",
      "knowmeth                   0.5564      0.121      4.580      0.000         0.318     0.795\n",
      "usemeth                    0.6473      0.048     13.424      0.000         0.553     0.742\n",
      "agefm                     -0.0604      0.007     -9.213      0.000        -0.073    -0.048\n",
      "heduc                     -0.0551      0.008     -6.838      0.000        -0.071    -0.039\n",
      "urban                     -0.2137      0.047     -4.527      0.000        -0.306    -0.121\n",
      "electric                  -0.2685      0.077     -3.479      0.001        -0.420    -0.117\n",
      "radio                     -0.0235      0.051     -0.461      0.645        -0.123     0.076\n",
      "tv                        -0.1451      0.093     -1.566      0.118        -0.327     0.037\n",
      "bicycle                    0.2139      0.050      4.260      0.000         0.115     0.312\n",
      "nevermarr                 -2.2393      0.148    -15.143      0.000        -2.529    -1.949\n",
      "idlnchld_noans             0.6539      0.153      4.286      0.000         0.355     0.953\n",
      "heduc_noans               -0.8724      0.145     -6.026      0.000        -1.156    -0.589\n",
      "usemeth_noans              0.7652      0.196      3.910      0.000         0.382     1.149\n",
      "==============================================================================\n",
      "Omnibus:                      224.411   Durbin-Watson:                   1.887\n",
      "Prob(Omnibus):                  0.000   Jarque-Bera (JB):              859.014\n",
      "Skew:                           0.003   Prob(JB):                    2.93e-187\n",
      "Kurtosis:                       5.178   Cond. No.                         361.\n",
      "==============================================================================\n",
      "\n",
      "Warnings:\n",
      "[1] Standard Errors assume that the covariance matrix of the errors is correctly specified.\n"
     ]
    }
   ],
   "source": [
    "m1 = smf.ols('ceb ~ age+educ+religion+idlnchld+knowmeth+usemeth+agefm+heduc+urban\\\n",
    "              +electric+radio+tv+bicycle+nevermarr+idlnchld_noans+heduc_noans+usemeth_noans', \n",
    "             data=df)\n",
    "fitted = m1.fit()\n",
    "print (fitted.summary())"
   ]
  },
  {
   "cell_type": "code",
   "execution_count": 316,
   "metadata": {
    "collapsed": false
   },
   "outputs": [
    {
     "name": "stderr",
     "output_type": "stream",
     "text": [
      "C:\\Users\\ur00656\\AppData\\Local\\Continuum\\Anaconda3\\lib\\site-packages\\ipykernel\\__main__.py:5: RuntimeWarning: invalid value encountered in log\n"
     ]
    },
    {
     "data": {
      "image/png": "[encoded data removed]",
      "text/plain": [
       "<matplotlib.figure.Figure at 0xee47f10>"
      ]
     },
     "metadata": {},
     "output_type": "display_data"
    }
   ],
   "source": [
    "plt.figure(figsize(16,7))\n",
    "plt.subplot(121)\n",
    "sc.stats.probplot(fitted.resid, dist=\"norm\", plot=pylab)\n",
    "plt.subplot(122)\n",
    "np.log(fitted.resid).plot.hist()\n",
    "plt.xlabel('Residuals', fontsize=14)\n",
    "pylab.show()"
   ]
  },
  {
   "cell_type": "code",
   "execution_count": 317,
   "metadata": {
    "collapsed": false
   },
   "outputs": [
    {
     "name": "stdout",
     "output_type": "stream",
     "text": [
      "Breusch-Pagan test: p=0.000000\n"
     ]
    }
   ],
   "source": [
    "print ('Breusch-Pagan test: p=%f' % sms.het_breushpagan(fitted.resid, fitted.model.exog)[1])"
   ]
  },
  {
   "cell_type": "code",
   "execution_count": 318,
   "metadata": {
    "collapsed": false
   },
   "outputs": [
    {
     "name": "stdout",
     "output_type": "stream",
     "text": [
      "                            OLS Regression Results                            \n",
      "==============================================================================\n",
      "Dep. Variable:                    ceb   R-squared:                       0.644\n",
      "Model:                            OLS   Adj. R-squared:                  0.643\n",
      "Method:                 Least Squares   F-statistic:                     345.0\n",
      "Date:                Fri, 22 Dec 2017   Prob (F-statistic):               0.00\n",
      "Time:                        11:42:04   Log-Likelihood:                -7732.1\n",
      "No. Observations:                4348   AIC:                         1.550e+04\n",
      "Df Residuals:                    4328   BIC:                         1.563e+04\n",
      "Df Model:                          19                                         \n",
      "Covariance Type:                  HC1                                         \n",
      "==========================================================================================\n",
      "                             coef    std err          z      P>|z|      [95.0% Conf. Int.]\n",
      "------------------------------------------------------------------------------------------\n",
      "Intercept                 -1.0263      0.266     -3.863      0.000        -1.547    -0.506\n",
      "religion[T.other]         -0.0830      0.078     -1.067      0.286        -0.235     0.069\n",
      "religion[T.protestant]    -0.0149      0.078     -0.192      0.848        -0.167     0.137\n",
      "religion[T.spirit]        -0.0191      0.071     -0.268      0.789        -0.159     0.121\n",
      "age                        0.1703      0.004     38.627      0.000         0.162     0.179\n",
      "educ                      -0.0724      0.007     -9.924      0.000        -0.087    -0.058\n",
      "idlnchld                   0.0760      0.015      5.236      0.000         0.048     0.104\n",
      "knowmeth                   0.5564      0.174      3.190      0.001         0.215     0.898\n",
      "usemeth                    0.6473      0.052     12.478      0.000         0.546     0.749\n",
      "agefm                     -0.0604      0.010     -6.174      0.000        -0.080    -0.041\n",
      "heduc                     -0.0551      0.009     -6.126      0.000        -0.073    -0.037\n",
      "urban                     -0.2137      0.046     -4.667      0.000        -0.303    -0.124\n",
      "electric                  -0.2685      0.072     -3.732      0.000        -0.410    -0.128\n",
      "radio                     -0.0235      0.053     -0.446      0.656        -0.127     0.080\n",
      "tv                        -0.1451      0.082     -1.766      0.077        -0.306     0.016\n",
      "bicycle                    0.2139      0.048      4.412      0.000         0.119     0.309\n",
      "nevermarr                 -2.2393      0.202    -11.082      0.000        -2.635    -1.843\n",
      "idlnchld_noans             0.6539      0.216      3.029      0.002         0.231     1.077\n",
      "heduc_noans               -0.8724      0.191     -4.556      0.000        -1.248    -0.497\n",
      "usemeth_noans              0.7652      0.213      3.590      0.000         0.347     1.183\n",
      "==============================================================================\n",
      "Omnibus:                      224.411   Durbin-Watson:                   1.887\n",
      "Prob(Omnibus):                  0.000   Jarque-Bera (JB):              859.014\n",
      "Skew:                           0.003   Prob(JB):                    2.93e-187\n",
      "Kurtosis:                       5.178   Cond. No.                         361.\n",
      "==============================================================================\n",
      "\n",
      "Warnings:\n",
      "[1] Standard Errors are heteroscedasticity robust (HC1)\n"
     ]
    }
   ],
   "source": [
    "m2= smf.ols('ceb ~ age+educ+religion+idlnchld+knowmeth+usemeth+agefm+heduc+urban\\\n",
    "              +electric+radio+tv+bicycle+nevermarr+idlnchld_noans+heduc_noans+usemeth_noans', \n",
    "             data=df)\n",
    "fitted = m2.fit(cov_type='HC1')\n",
    "print (fitted.summary())"
   ]
  },
  {
   "cell_type": "code",
   "execution_count": 319,
   "metadata": {
    "collapsed": false
   },
   "outputs": [],
   "source": [
    "df=df.drop(['religion','radio','tv'],axis=1)"
   ]
  },
  {
   "cell_type": "code",
   "execution_count": 320,
   "metadata": {
    "collapsed": false
   },
   "outputs": [
    {
     "name": "stdout",
     "output_type": "stream",
     "text": [
      "                            OLS Regression Results                            \n",
      "==============================================================================\n",
      "Dep. Variable:                    ceb   R-squared:                       0.644\n",
      "Model:                            OLS   Adj. R-squared:                  0.643\n",
      "Method:                 Least Squares   F-statistic:                     559.5\n",
      "Date:                Fri, 22 Dec 2017   Prob (F-statistic):               0.00\n",
      "Time:                        11:42:06   Log-Likelihood:                -7734.5\n",
      "No. Observations:                4348   AIC:                         1.550e+04\n",
      "Df Residuals:                    4333   BIC:                         1.559e+04\n",
      "Df Model:                          14                                         \n",
      "Covariance Type:            nonrobust                                         \n",
      "==================================================================================\n",
      "                     coef    std err          t      P>|t|      [95.0% Conf. Int.]\n",
      "----------------------------------------------------------------------------------\n",
      "Intercept         -1.0698      0.198     -5.393      0.000        -1.459    -0.681\n",
      "age                0.1702      0.003     52.271      0.000         0.164     0.177\n",
      "educ              -0.0729      0.007    -10.285      0.000        -0.087    -0.059\n",
      "idlnchld           0.0770      0.011      7.042      0.000         0.056     0.098\n",
      "knowmeth           0.5610      0.121      4.628      0.000         0.323     0.799\n",
      "usemeth            0.6516      0.048     13.537      0.000         0.557     0.746\n",
      "agefm             -0.0606      0.007     -9.240      0.000        -0.073    -0.048\n",
      "heduc             -0.0573      0.008     -7.186      0.000        -0.073    -0.042\n",
      "urban             -0.2190      0.047     -4.682      0.000        -0.311    -0.127\n",
      "electric          -0.3207      0.070     -4.584      0.000        -0.458    -0.184\n",
      "bicycle            0.2046      0.049      4.154      0.000         0.108     0.301\n",
      "nevermarr         -2.2501      0.148    -15.231      0.000        -2.540    -1.961\n",
      "idlnchld_noans     0.6565      0.152      4.310      0.000         0.358     0.955\n",
      "heduc_noans       -0.8853      0.145     -6.122      0.000        -1.169    -0.602\n",
      "usemeth_noans      0.7732      0.196      3.955      0.000         0.390     1.156\n",
      "==============================================================================\n",
      "Omnibus:                      224.096   Durbin-Watson:                   1.886\n",
      "Prob(Omnibus):                  0.000   Jarque-Bera (JB):              856.760\n",
      "Skew:                           0.004   Prob(JB):                    9.06e-187\n",
      "Kurtosis:                       5.175   Cond. No.                         345.\n",
      "==============================================================================\n",
      "\n",
      "Warnings:\n",
      "[1] Standard Errors assume that the covariance matrix of the errors is correctly specified.\n"
     ]
    }
   ],
   "source": [
    "m3 = smf.ols('ceb ~ age+educ+idlnchld+knowmeth+usemeth+agefm+heduc+urban\\\n",
    "              +electric+bicycle+nevermarr+idlnchld_noans+heduc_noans+usemeth_noans', \n",
    "             data=df)\n",
    "fitted = m3.fit()\n",
    "print (fitted.summary())"
   ]
  },
  {
   "cell_type": "code",
   "execution_count": 321,
   "metadata": {
    "collapsed": false
   },
   "outputs": [
    {
     "name": "stdout",
     "output_type": "stream",
     "text": [
      "Breusch-Pagan test: p=0.000000\n"
     ]
    }
   ],
   "source": [
    "print ('Breusch-Pagan test: p=%f' % sms.het_breushpagan(fitted.resid, fitted.model.exog)[1])"
   ]
  },
  {
   "cell_type": "code",
   "execution_count": 322,
   "metadata": {
    "collapsed": false
   },
   "outputs": [
    {
     "name": "stdout",
     "output_type": "stream",
     "text": [
      "                            OLS Regression Results                            \n",
      "==============================================================================\n",
      "Dep. Variable:                    ceb   R-squared:                       0.644\n",
      "Model:                            OLS   Adj. R-squared:                  0.643\n",
      "Method:                 Least Squares   F-statistic:                     463.4\n",
      "Date:                Fri, 22 Dec 2017   Prob (F-statistic):               0.00\n",
      "Time:                        11:42:12   Log-Likelihood:                -7734.5\n",
      "No. Observations:                4348   AIC:                         1.550e+04\n",
      "Df Residuals:                    4333   BIC:                         1.559e+04\n",
      "Df Model:                          14                                         \n",
      "Covariance Type:                  HC1                                         \n",
      "==================================================================================\n",
      "                     coef    std err          z      P>|z|      [95.0% Conf. Int.]\n",
      "----------------------------------------------------------------------------------\n",
      "Intercept         -1.0698      0.258     -4.152      0.000        -1.575    -0.565\n",
      "age                0.1702      0.004     38.746      0.000         0.162     0.179\n",
      "educ              -0.0729      0.007    -10.311      0.000        -0.087    -0.059\n",
      "idlnchld           0.0770      0.014      5.323      0.000         0.049     0.105\n",
      "knowmeth           0.5610      0.174      3.224      0.001         0.220     0.902\n",
      "usemeth            0.6516      0.052     12.571      0.000         0.550     0.753\n",
      "agefm             -0.0606      0.010     -6.192      0.000        -0.080    -0.041\n",
      "heduc             -0.0573      0.009     -6.440      0.000        -0.075    -0.040\n",
      "urban             -0.2190      0.045     -4.814      0.000        -0.308    -0.130\n",
      "electric          -0.3207      0.063     -5.076      0.000        -0.445    -0.197\n",
      "bicycle            0.2046      0.048      4.279      0.000         0.111     0.298\n",
      "nevermarr         -2.2501      0.202    -11.158      0.000        -2.645    -1.855\n",
      "idlnchld_noans     0.6565      0.216      3.043      0.002         0.234     1.079\n",
      "heduc_noans       -0.8853      0.191     -4.638      0.000        -1.259    -0.511\n",
      "usemeth_noans      0.7732      0.212      3.639      0.000         0.357     1.190\n",
      "==============================================================================\n",
      "Omnibus:                      224.096   Durbin-Watson:                   1.886\n",
      "Prob(Omnibus):                  0.000   Jarque-Bera (JB):              856.760\n",
      "Skew:                           0.004   Prob(JB):                    9.06e-187\n",
      "Kurtosis:                       5.175   Cond. No.                         345.\n",
      "==============================================================================\n",
      "\n",
      "Warnings:\n",
      "[1] Standard Errors are heteroscedasticity robust (HC1)\n"
     ]
    }
   ],
   "source": [
    "m4 = smf.ols('ceb ~ age+educ+idlnchld+knowmeth+usemeth+agefm+heduc+urban\\\n",
    "              +electric+bicycle+nevermarr+idlnchld_noans+heduc_noans+usemeth_noans', \n",
    "             data=df)\n",
    "fitted = m4.fit(cov_type='HC1')\n",
    "print (fitted.summary())"
   ]
  },
  {
   "cell_type": "code",
   "execution_count": 299,
   "metadata": {
    "collapsed": false
   },
   "outputs": [
    {
     "name": "stdout",
     "output_type": "stream",
     "text": [
      "F=0.919236, p=0.467231, k1=5.000000\n"
     ]
    }
   ],
   "source": [
    "print (\"F=%f, p=%f, k1=%f\" % m2.fit().compare_f_test(m4.fit()))"
   ]
  },
  {
   "cell_type": "code",
   "execution_count": 300,
   "metadata": {
    "collapsed": true
   },
   "outputs": [],
   "source": [
    "df=df.drop(['usemeth','usemeth_noans'], axis=1)"
   ]
  },
  {
   "cell_type": "code",
   "execution_count": 301,
   "metadata": {
    "collapsed": false
   },
   "outputs": [
    {
     "name": "stdout",
     "output_type": "stream",
     "text": [
      "                            OLS Regression Results                            \n",
      "==============================================================================\n",
      "Dep. Variable:                    ceb   R-squared:                       0.629\n",
      "Model:                            OLS   Adj. R-squared:                  0.628\n",
      "Method:                 Least Squares   F-statistic:                     611.3\n",
      "Date:                Fri, 22 Dec 2017   Prob (F-statistic):               0.00\n",
      "Time:                        11:40:03   Log-Likelihood:                -7825.7\n",
      "No. Observations:                4348   AIC:                         1.568e+04\n",
      "Df Residuals:                    4335   BIC:                         1.576e+04\n",
      "Df Model:                          12                                         \n",
      "Covariance Type:            nonrobust                                         \n",
      "==================================================================================\n",
      "                     coef    std err          t      P>|t|      [95.0% Conf. Int.]\n",
      "----------------------------------------------------------------------------------\n",
      "Intercept         -1.1931      0.202     -5.897      0.000        -1.590    -0.796\n",
      "age                0.1776      0.003     54.368      0.000         0.171     0.184\n",
      "educ              -0.0560      0.007     -7.862      0.000        -0.070    -0.042\n",
      "idlnchld           0.0705      0.011      6.317      0.000         0.049     0.092\n",
      "knowmeth           0.8739      0.121      7.203      0.000         0.636     1.112\n",
      "agefm             -0.0649      0.007     -9.716      0.000        -0.078    -0.052\n",
      "heduc             -0.0521      0.008     -6.411      0.000        -0.068    -0.036\n",
      "urban             -0.1866      0.048     -3.917      0.000        -0.280    -0.093\n",
      "electric          -0.3218      0.071     -4.505      0.000        -0.462    -0.182\n",
      "bicycle            0.1979      0.050      3.935      0.000         0.099     0.296\n",
      "nevermarr         -2.3625      0.150    -15.707      0.000        -2.657    -2.068\n",
      "idlnchld_noans     0.5266      0.155      3.393      0.001         0.222     0.831\n",
      "heduc_noans       -0.7947      0.147     -5.389      0.000        -1.084    -0.506\n",
      "==============================================================================\n",
      "Omnibus:                      250.641   Durbin-Watson:                   1.910\n",
      "Prob(Omnibus):                  0.000   Jarque-Bera (JB):              936.515\n",
      "Skew:                          -0.158   Prob(JB):                    4.35e-204\n",
      "Kurtosis:                       5.251   Cond. No.                         345.\n",
      "==============================================================================\n",
      "\n",
      "Warnings:\n",
      "[1] Standard Errors assume that the covariance matrix of the errors is correctly specified.\n"
     ]
    }
   ],
   "source": [
    "m5 = smf.ols('ceb ~ age+educ+idlnchld+knowmeth+agefm+heduc+urban\\\n",
    "              +electric+bicycle+nevermarr+idlnchld_noans+heduc_noans', \n",
    "             data=df)\n",
    "fitted = m5.fit()\n",
    "print (fitted.summary())"
   ]
  },
  {
   "cell_type": "code",
   "execution_count": 303,
   "metadata": {
    "collapsed": false
   },
   "outputs": [
    {
     "name": "stdout",
     "output_type": "stream",
     "text": [
      "(92.890582301097581, 3.1552009480386492e-40, 2.0)\n"
     ]
    }
   ],
   "source": [
    "print ( m3.fit().compare_f_test(m5.fit()))"
   ]
  },
  {
   "cell_type": "code",
   "execution_count": null,
   "metadata": {
    "collapsed": true
   },
   "outputs": [],
   "source": []
  }
 ],
 "metadata": {
  "kernelspec": {
   "display_name": "Python 3",
   "language": "python",
   "name": "python3"
  },
  "language_info": {
   "codemirror_mode": {
    "name": "ipython",
    "version": 3
   },
   "file_extension": ".py",
   "mimetype": "text/x-python",
   "name": "python",
   "nbconvert_exporter": "python",
   "pygments_lexer": "ipython3",
   "version": "3.6.0"
  }
 },
 "nbformat": 4,
 "nbformat_minor": 2
}
