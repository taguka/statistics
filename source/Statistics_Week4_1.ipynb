{
 "cells": [
  {
   "cell_type": "code",
   "execution_count": 79,
   "metadata": {
    "collapsed": true
   },
   "outputs": [],
   "source": [
    "import pandas as pd\n",
    "import numpy as np\n",
    "import itertools  \n",
    "import scipy.stats"
   ]
  },
  {
   "cell_type": "code",
   "execution_count": 81,
   "metadata": {
    "collapsed": true
   },
   "outputs": [],
   "source": [
    "df=pd.read_csv('C:\\\\Study\\\\Statistics\\\\Week4\\\\churn_analysis.csv')\n",
    "df=df.drop(df.columns[0], axis=1)\n",
    "df['churn']=df['churn'].apply(lambda x: 1 if x=='True.' else 0)"
   ]
  },
  {
   "cell_type": "code",
   "execution_count": 82,
   "metadata": {},
   "outputs": [
    {
     "data": {
      "text/plain": [
       "(3333, 22)"
      ]
     },
     "execution_count": 82,
     "metadata": {},
     "output_type": "execute_result"
    }
   ],
   "source": [
    "df.shape"
   ]
  },
  {
   "cell_type": "markdown",
   "metadata": {},
   "source": [
    "Рассмотрим всех пользователей из контрольной группы (treatment = 1). \n",
    "Для таких пользователей мы хотим проверить гипотезу о том, что штат абонента не влияет на то, \n",
    "перестанет ли абонент пользоваться услугами оператора. "
   ]
  },
  {
   "cell_type": "code",
   "execution_count": 13,
   "metadata": {
    "collapsed": true
   },
   "outputs": [],
   "source": [
    "control=df[df['treatment']==1]"
   ]
  },
  {
   "cell_type": "code",
   "execution_count": 14,
   "metadata": {},
   "outputs": [
    {
     "data": {
      "text/plain": [
       "0    917\n",
       "1    180\n",
       "Name: churn, dtype: int64"
      ]
     },
     "execution_count": 14,
     "metadata": {},
     "output_type": "execute_result"
    }
   ],
   "source": [
    "control.churn.value_counts() "
   ]
  },
  {
   "cell_type": "code",
   "execution_count": 62,
   "metadata": {
    "collapsed": true
   },
   "outputs": [],
   "source": [
    "state_churns=control.groupby(['state','churn'])[['churn']].count()\n",
    "state_churns.columns=['tot']\n",
    "state_churns=state_churns.reset_index( )\n",
    "state_churns = pd.pivot_table(state_churns, values='tot', index=['state'],\n",
    "                     columns=['churn'], fill_value=0).reset_index().set_index('state')\n",
    "state_churns.columns=['churn_0','churn_1']\n"
   ]
  },
  {
   "cell_type": "code",
   "execution_count": 63,
   "metadata": {},
   "outputs": [
    {
     "data": {
      "text/html": [
       "<div>\n",
       "<style>\n",
       "    .dataframe thead tr:only-child th {\n",
       "        text-align: right;\n",
       "    }\n",
       "\n",
       "    .dataframe thead th {\n",
       "        text-align: left;\n",
       "    }\n",
       "\n",
       "    .dataframe tbody tr th {\n",
       "        vertical-align: top;\n",
       "    }\n",
       "</style>\n",
       "<table border=\"1\" class=\"dataframe\">\n",
       "  <thead>\n",
       "    <tr style=\"text-align: right;\">\n",
       "      <th></th>\n",
       "      <th>churn_0</th>\n",
       "      <th>churn_1</th>\n",
       "    </tr>\n",
       "    <tr>\n",
       "      <th>state</th>\n",
       "      <th></th>\n",
       "      <th></th>\n",
       "    </tr>\n",
       "  </thead>\n",
       "  <tbody>\n",
       "    <tr>\n",
       "      <th>AK</th>\n",
       "      <td>19</td>\n",
       "      <td>1</td>\n",
       "    </tr>\n",
       "    <tr>\n",
       "      <th>AL</th>\n",
       "      <td>25</td>\n",
       "      <td>5</td>\n",
       "    </tr>\n",
       "    <tr>\n",
       "      <th>AR</th>\n",
       "      <td>11</td>\n",
       "      <td>5</td>\n",
       "    </tr>\n",
       "    <tr>\n",
       "      <th>AZ</th>\n",
       "      <td>17</td>\n",
       "      <td>2</td>\n",
       "    </tr>\n",
       "    <tr>\n",
       "      <th>CA</th>\n",
       "      <td>10</td>\n",
       "      <td>5</td>\n",
       "    </tr>\n",
       "  </tbody>\n",
       "</table>\n",
       "</div>"
      ],
      "text/plain": [
       "       churn_0  churn_1\n",
       "state                  \n",
       "AK          19        1\n",
       "AL          25        5\n",
       "AR          11        5\n",
       "AZ          17        2\n",
       "CA          10        5"
      ]
     },
     "execution_count": 63,
     "metadata": {},
     "output_type": "execute_result"
    }
   ],
   "source": [
    "state_churns.head()"
   ]
  },
  {
   "cell_type": "code",
   "execution_count": 64,
   "metadata": {
    "collapsed": true
   },
   "outputs": [],
   "source": [
    "pair_states=list(itertools.combinations(state_churns.index,2))"
   ]
  },
  {
   "cell_type": "markdown",
   "metadata": {},
   "source": [
    "Воспользуемся критерием хи-квадрат:"
   ]
  },
  {
   "cell_type": "code",
   "execution_count": 65,
   "metadata": {
    "collapsed": true
   },
   "outputs": [],
   "source": [
    "lst_pvalues=[]\n",
    "for item in pair_states:\n",
    "    tab=np.array((state_churns.loc[item[0],['churn_0','churn_1']],\n",
    "                  state_churns.loc[item[1],['churn_0','churn_1']]))\n",
    "    _, p, _, _ =scipy.stats.chi2_contingency(tab, correction=False)\n",
    "    lst_pvalues.append([item[0],item[1],p])"
   ]
  },
  {
   "cell_type": "code",
   "execution_count": 66,
   "metadata": {},
   "outputs": [
    {
     "data": {
      "text/html": [
       "<div>\n",
       "<style>\n",
       "    .dataframe thead tr:only-child th {\n",
       "        text-align: right;\n",
       "    }\n",
       "\n",
       "    .dataframe thead th {\n",
       "        text-align: left;\n",
       "    }\n",
       "\n",
       "    .dataframe tbody tr th {\n",
       "        vertical-align: top;\n",
       "    }\n",
       "</style>\n",
       "<table border=\"1\" class=\"dataframe\">\n",
       "  <thead>\n",
       "    <tr style=\"text-align: right;\">\n",
       "      <th></th>\n",
       "      <th>state_1</th>\n",
       "      <th>state_2</th>\n",
       "      <th>pvalue</th>\n",
       "    </tr>\n",
       "  </thead>\n",
       "  <tbody>\n",
       "    <tr>\n",
       "      <th>0</th>\n",
       "      <td>AK</td>\n",
       "      <td>AL</td>\n",
       "      <td>0.423999</td>\n",
       "    </tr>\n",
       "    <tr>\n",
       "      <th>1</th>\n",
       "      <td>AK</td>\n",
       "      <td>AR</td>\n",
       "      <td>0.098943</td>\n",
       "    </tr>\n",
       "    <tr>\n",
       "      <th>2</th>\n",
       "      <td>AK</td>\n",
       "      <td>AZ</td>\n",
       "      <td>0.963119</td>\n",
       "    </tr>\n",
       "    <tr>\n",
       "      <th>3</th>\n",
       "      <td>AK</td>\n",
       "      <td>CA</td>\n",
       "      <td>0.080491</td>\n",
       "    </tr>\n",
       "    <tr>\n",
       "      <th>4</th>\n",
       "      <td>AK</td>\n",
       "      <td>CO</td>\n",
       "      <td>0.230821</td>\n",
       "    </tr>\n",
       "  </tbody>\n",
       "</table>\n",
       "</div>"
      ],
      "text/plain": [
       "  state_1 state_2    pvalue\n",
       "0      AK      AL  0.423999\n",
       "1      AK      AR  0.098943\n",
       "2      AK      AZ  0.963119\n",
       "3      AK      CA  0.080491\n",
       "4      AK      CO  0.230821"
      ]
     },
     "execution_count": 66,
     "metadata": {},
     "output_type": "execute_result"
    }
   ],
   "source": [
    "df_pvalues.head()"
   ]
  },
  {
   "cell_type": "markdown",
   "metadata": {},
   "source": [
    "Уровни значимости оказались меньше, чем α=0.05:"
   ]
  },
  {
   "cell_type": "code",
   "execution_count": 67,
   "metadata": {},
   "outputs": [
    {
     "data": {
      "text/plain": [
       "34"
      ]
     },
     "execution_count": 67,
     "metadata": {},
     "output_type": "execute_result"
    }
   ],
   "source": [
    "df_pvalues=pd.DataFrame.from_records(lst_pvalues)\n",
    "df_pvalues.columns=['state_1','state_2','pvalue']\n",
    "df_pvalues[df_pvalues['pvalue']<0.05].shape[0]"
   ]
  },
  {
   "cell_type": "markdown",
   "metadata": {},
   "source": [
    "Применение критерия xи-квадрат для этих данных не обосновано, потому что не выполняются условия,\n",
    "при которых этот критерий дает правильные результаты.\n",
    "\n",
    "Интерпретация числа достигаемых уровней значимости, меньших α=0.05, некорректна, \n",
    "поскольку не сделана поправка на множественную проверку гипотез."
   ]
  },
  {
   "cell_type": "markdown",
   "metadata": {},
   "source": [
    "Т.к. данных мало, то применим поправку Йетса на непрерывность. "
   ]
  },
  {
   "cell_type": "code",
   "execution_count": 68,
   "metadata": {
    "collapsed": true
   },
   "outputs": [],
   "source": [
    "lst_pvalues=[]\n",
    "for item in pair_states:\n",
    "    tab=np.array((state_churns.loc[item[0],['churn_0','churn_1']],\n",
    "                  state_churns.loc[item[1],['churn_0','churn_1']]))\n",
    "    _, p, _, _ =scipy.stats.chi2_contingency(tab, correction=True)\n",
    "    lst_pvalues.append([item[0],item[1],p])"
   ]
  },
  {
   "cell_type": "code",
   "execution_count": 69,
   "metadata": {},
   "outputs": [
    {
     "data": {
      "text/plain": [
       "0"
      ]
     },
     "execution_count": 69,
     "metadata": {},
     "output_type": "execute_result"
    }
   ],
   "source": [
    "df_pvalues=pd.DataFrame.from_records(lst_pvalues)\n",
    "df_pvalues.columns=['state_1','state_2','pvalue']\n",
    "df_pvalues[df_pvalues['pvalue']<0.05].shape[0]"
   ]
  },
  {
   "cell_type": "markdown",
   "metadata": {},
   "source": [
    "Количество достигаемых уровней значимости, меньших, чем 0.05, в точности равно нулю. \n",
    "То есть поправка увеличила достигаемые уровни значимости настолько, что больше ни одно \n",
    "из значений достигаемого уровня значимости не попадает в диапазон от 0 до 0.05.\n",
    "\n",
    "Достигаемые уровни значимости на наших данных, полученные с помощью критерия xи-квадрат \n",
    "с поправкой Йетса, в среднем получаются больше, чем соответствующие значения без поправки."
   ]
  },
  {
   "cell_type": "markdown",
   "metadata": {},
   "source": [
    "Посчитаем для каждой пары штатов, как и в первом задании, достигаемый уровень значимости \n",
    "с помощью точного критерия Фишера:"
   ]
  },
  {
   "cell_type": "code",
   "execution_count": 70,
   "metadata": {
    "collapsed": true
   },
   "outputs": [],
   "source": [
    "lst_pvalues=[]\n",
    "for item in pair_states:\n",
    "    tab=np.array((state_churns.loc[item[0],['churn_0','churn_1']],\n",
    "                  state_churns.loc[item[1],['churn_0','churn_1']]))\n",
    "    _, p=scipy.stats.fisher_exact(tab)\n",
    "    lst_pvalues.append([item[0],item[1],p])"
   ]
  },
  {
   "cell_type": "code",
   "execution_count": 72,
   "metadata": {},
   "outputs": [
    {
     "data": {
      "text/plain": [
       "10"
      ]
     },
     "execution_count": 72,
     "metadata": {},
     "output_type": "execute_result"
    }
   ],
   "source": [
    "df_pvalues=pd.DataFrame.from_records(lst_pvalues)\n",
    "df_pvalues.columns=['state_1','state_2','pvalue']\n",
    "df_pvalues[df_pvalues['pvalue']<0.05].shape[0]"
   ]
  },
  {
   "cell_type": "markdown",
   "metadata": {},
   "source": [
    "Точный критерий Фишера на наших данных дает значения достигаемого уровня значимости \n",
    "в среднем меньшие, чем xи-квадрат с поправкой Йетса, но значительно большие, чем xи-квадрат\n",
    "без поправки.\n",
    "\n",
    "Точный критерий Фишера всегда лучше, чем критерий xи-квадрат, потому что не использует \n",
    "аппроксимацию дискретного распределения непрерывным. Однако при увеличении размера выборки \n",
    "его преимущества по сравнению с критерем xи-квадрат уменьшаются, в пределе достигая нуля."
   ]
  },
  {
   "cell_type": "markdown",
   "metadata": {},
   "source": [
    "Рассмотрим пару признаков day_calls и mes_estim. Посчитаем корреляцию Пирсона между этими \n",
    "признаками на всех данных, ее значимость."
   ]
  },
  {
   "cell_type": "code",
   "execution_count": 94,
   "metadata": {},
   "outputs": [
    {
     "data": {
      "text/html": [
       "<div>\n",
       "<style>\n",
       "    .dataframe thead tr:only-child th {\n",
       "        text-align: right;\n",
       "    }\n",
       "\n",
       "    .dataframe thead th {\n",
       "        text-align: left;\n",
       "    }\n",
       "\n",
       "    .dataframe tbody tr th {\n",
       "        vertical-align: top;\n",
       "    }\n",
       "</style>\n",
       "<table border=\"1\" class=\"dataframe\">\n",
       "  <thead>\n",
       "    <tr style=\"text-align: right;\">\n",
       "      <th></th>\n",
       "      <th>day_calls</th>\n",
       "      <th>mes_estim</th>\n",
       "    </tr>\n",
       "  </thead>\n",
       "  <tbody>\n",
       "    <tr>\n",
       "      <th>0</th>\n",
       "      <td>110</td>\n",
       "      <td>0.65</td>\n",
       "    </tr>\n",
       "    <tr>\n",
       "      <th>1</th>\n",
       "      <td>123</td>\n",
       "      <td>0.55</td>\n",
       "    </tr>\n",
       "    <tr>\n",
       "      <th>2</th>\n",
       "      <td>114</td>\n",
       "      <td>0.72</td>\n",
       "    </tr>\n",
       "    <tr>\n",
       "      <th>3</th>\n",
       "      <td>71</td>\n",
       "      <td>0.28</td>\n",
       "    </tr>\n",
       "    <tr>\n",
       "      <th>4</th>\n",
       "      <td>113</td>\n",
       "      <td>0.45</td>\n",
       "    </tr>\n",
       "  </tbody>\n",
       "</table>\n",
       "</div>"
      ],
      "text/plain": [
       "   day_calls  mes_estim\n",
       "0        110       0.65\n",
       "1        123       0.55\n",
       "2        114       0.72\n",
       "3         71       0.28\n",
       "4        113       0.45"
      ]
     },
     "execution_count": 94,
     "metadata": {},
     "output_type": "execute_result"
    }
   ],
   "source": [
    "df[['day_calls','mes_estim']].head()"
   ]
  },
  {
   "cell_type": "code",
   "execution_count": 92,
   "metadata": {},
   "outputs": [
    {
     "data": {
      "image/png": "[encoded data removed]",
      "text/plain": [
       "<matplotlib.figure.Figure at 0x29893c0cd30>"
      ]
     },
     "metadata": {},
     "output_type": "display_data"
    }
   ],
   "source": [
    "from scipy.stats import pearsonr, spearmanr\n",
    "import pylab \n",
    "scipy.stats.probplot(df.day_calls, dist=\"norm\", plot=pylab)\n",
    "pylab.show()"
   ]
  },
  {
   "cell_type": "code",
   "execution_count": 93,
   "metadata": {},
   "outputs": [
    {
     "data": {
      "image/png": "[encoded data removed]",
      "text/plain": [
       "<matplotlib.figure.Figure at 0x2989ac73198>"
      ]
     },
     "metadata": {},
     "output_type": "display_data"
    }
   ],
   "source": [
    "scipy.stats.probplot(df.mes_estim, dist=\"norm\", plot=pylab)\n",
    "pylab.show()"
   ]
  },
  {
   "cell_type": "code",
   "execution_count": 86,
   "metadata": {},
   "outputs": [
    {
     "name": "stdout",
     "output_type": "stream",
     "text": [
      "Pearson’s correlation coefficient:  -0.0517943505876 p-value: 0.00277988368698\n"
     ]
    }
   ],
   "source": [
    "r, pvalue=scipy.stats.pearsonr(df.day_calls, df.mes_estim)\n",
    "print('Pearson’s correlation coefficient: ',r,'p-value:', pvalue)"
   ]
  },
  {
   "cell_type": "markdown",
   "metadata": {},
   "source": [
    "Корреляция Пирсона имеет отрицательный знак, и отличие корреляции от нуля на уровне\n",
    "доверия 0.05 значимо."
   ]
  },
  {
   "cell_type": "markdown",
   "metadata": {},
   "source": [
    "Посчитаем корреляцию Спирмена между этими признаками на всех данных, ее значимость."
   ]
  },
  {
   "cell_type": "code",
   "execution_count": 114,
   "metadata": {},
   "outputs": [
    {
     "name": "stdout",
     "output_type": "stream",
     "text": [
      "Spearman’s correlation coefficient:  0.0433498805339 p-value: 0.0123173671892\n"
     ]
    }
   ],
   "source": [
    "r, pvalue=scipy.stats.spearmanr(df.day_calls, df.mes_estim)\n",
    "print('Spearman’s correlation coefficient: ',r,'p-value:', pvalue)"
   ]
  },
  {
   "cell_type": "markdown",
   "metadata": {},
   "source": [
    "Корреляция Спирмена имеет положительный знак, и отличие корреляции от нуля на уровне\n",
    "доверия 0.05 значимо."
   ]
  },
  {
   "cell_type": "markdown",
   "metadata": {},
   "source": [
    "Не стоит ориентироваться на значение корреляции Спирмена, потому что корреляцию Спирмена \n",
    "можно считать только тогда, когда оба признака дискретные и между значениями можно установить \n",
    "строгий порядок.\n",
    "\n",
    "Посчитанные корреляции и их значимости говорят лишь о том, что необходимо взглянуть на данные \n",
    "глазами и попытаться понять, что приводит к таким (противоречивым?) результатам."
   ]
  },
  {
   "cell_type": "markdown",
   "metadata": {},
   "source": [
    "Посчитаем значение коэффицента корреляции Крамера между двумя признаками: штатом (state) \n",
    "и оттоком пользователей (churn) для всех пользователей, которые находились в контрольной \n",
    "группе (treatment=1)."
   ]
  },
  {
   "cell_type": "code",
   "execution_count": 97,
   "metadata": {
    "collapsed": true
   },
   "outputs": [],
   "source": [
    "def cramers_stat(tab):\n",
    "    chi2 = scipy.stats.chi2_contingency(tab)[0]\n",
    "    n = tab.sum()\n",
    "    return np.sqrt(chi2 / (n*(min(tab.shape)-1)))"
   ]
  },
  {
   "cell_type": "code",
   "execution_count": 103,
   "metadata": {
    "collapsed": true
   },
   "outputs": [],
   "source": [
    "df_treatment=df.loc[df['treatment']==1,['state','churn']]\n",
    "state_churns=df_treatment.groupby(['state','churn'])[['churn']].count()\n",
    "state_churns.columns=['tot']\n",
    "state_churns=state_churns.reset_index( )\n",
    "state_churns = pd.pivot_table(state_churns, values='tot', index=['state'],\n",
    "                     columns=['churn'], fill_value=0).reset_index().set_index('state')\n",
    "state_churns.columns=['churn_0','churn_1']"
   ]
  },
  {
   "cell_type": "code",
   "execution_count": 104,
   "metadata": {},
   "outputs": [
    {
     "data": {
      "text/html": [
       "<div>\n",
       "<style>\n",
       "    .dataframe thead tr:only-child th {\n",
       "        text-align: right;\n",
       "    }\n",
       "\n",
       "    .dataframe thead th {\n",
       "        text-align: left;\n",
       "    }\n",
       "\n",
       "    .dataframe tbody tr th {\n",
       "        vertical-align: top;\n",
       "    }\n",
       "</style>\n",
       "<table border=\"1\" class=\"dataframe\">\n",
       "  <thead>\n",
       "    <tr style=\"text-align: right;\">\n",
       "      <th></th>\n",
       "      <th>churn_0</th>\n",
       "      <th>churn_1</th>\n",
       "    </tr>\n",
       "    <tr>\n",
       "      <th>state</th>\n",
       "      <th></th>\n",
       "      <th></th>\n",
       "    </tr>\n",
       "  </thead>\n",
       "  <tbody>\n",
       "    <tr>\n",
       "      <th>AK</th>\n",
       "      <td>19</td>\n",
       "      <td>1</td>\n",
       "    </tr>\n",
       "    <tr>\n",
       "      <th>AL</th>\n",
       "      <td>25</td>\n",
       "      <td>5</td>\n",
       "    </tr>\n",
       "    <tr>\n",
       "      <th>AR</th>\n",
       "      <td>11</td>\n",
       "      <td>5</td>\n",
       "    </tr>\n",
       "    <tr>\n",
       "      <th>AZ</th>\n",
       "      <td>17</td>\n",
       "      <td>2</td>\n",
       "    </tr>\n",
       "    <tr>\n",
       "      <th>CA</th>\n",
       "      <td>10</td>\n",
       "      <td>5</td>\n",
       "    </tr>\n",
       "  </tbody>\n",
       "</table>\n",
       "</div>"
      ],
      "text/plain": [
       "       churn_0  churn_1\n",
       "state                  \n",
       "AK          19        1\n",
       "AL          25        5\n",
       "AR          11        5\n",
       "AZ          17        2\n",
       "CA          10        5"
      ]
     },
     "execution_count": 104,
     "metadata": {},
     "output_type": "execute_result"
    }
   ],
   "source": [
    "state_churns.head()"
   ]
  },
  {
   "cell_type": "code",
   "execution_count": 107,
   "metadata": {},
   "outputs": [
    {
     "data": {
      "text/plain": [
       "0.20039321502033319"
      ]
     },
     "execution_count": 107,
     "metadata": {},
     "output_type": "execute_result"
    }
   ],
   "source": [
    "cramers_stat(state_churns.values)"
   ]
  },
  {
   "cell_type": "code",
   "execution_count": 111,
   "metadata": {},
   "outputs": [
    {
     "data": {
      "text/plain": [
       "0.70975900427784733"
      ]
     },
     "execution_count": 111,
     "metadata": {},
     "output_type": "execute_result"
    }
   ],
   "source": [
    "_,p,_,_=scipy.stats.chi2_contingency(state_churns.values)\n",
    "p"
   ]
  },
  {
   "cell_type": "markdown",
   "metadata": {},
   "source": [
    "Для вычисления коэффициента Крамера используется значение статистики xи-квадрат, \n",
    "на которую мы не можем положиться применительно к нашим данным (их мало и во многих\n",
    "ячейках значение меньше 5)"
   ]
  },
  {
   "cell_type": "markdown",
   "metadata": {},
   "source": [
    "Нужно провести анализ эффективности удержания (churn) с помощью раличных методов \n",
    "(treatment = 0, treatment = 2) относительно контрольной группы пользователей (treatment = 1)."
   ]
  },
  {
   "cell_type": "code",
   "execution_count": 115,
   "metadata": {
    "collapsed": true
   },
   "outputs": [],
   "source": [
    "df_1=df[df['treatment']==1]\n",
    "df_0=df[df['treatment']==0]\n",
    "df_2=df[df['treatment']==2]"
   ]
  },
  {
   "cell_type": "code",
   "execution_count": 118,
   "metadata": {
    "collapsed": true
   },
   "outputs": [],
   "source": [
    "def calc_p(df):\n",
    "    return(np.sum(df.churn)/df.shape[0])\n",
    "p1=calc_p(df_1)\n",
    "p0=calc_p(df_0)\n",
    "p2=calc_p(df_2)\n",
    "n1=df_1.shape[0]\n",
    "n0=df_0.shape[0]\n",
    "n2=df_2.shape[0]"
   ]
  },
  {
   "cell_type": "code",
   "execution_count": 117,
   "metadata": {},
   "outputs": [
    {
     "name": "stdout",
     "output_type": "stream",
     "text": [
      "0.1640838650865998 0.14563106796116504 0.12511332728921123\n"
     ]
    }
   ],
   "source": [
    "print(p1,p0,p2)"
   ]
  },
  {
   "cell_type": "code",
   "execution_count": 120,
   "metadata": {
    "collapsed": true
   },
   "outputs": [],
   "source": [
    "def proportions_diff_confint_ind(p1,p2,n1,n2, alpha = 0.05):    \n",
    "    z = scipy.stats.norm.ppf(1 - alpha / 2.)\n",
    "    left_boundary = (p1 - p2) - z * np.sqrt(p1 * (1 - p1)/n1 + p2 * (1 - p2)/n2)\n",
    "    right_boundary = (p1 - p2) + z * np.sqrt(p1 * (1 - p1)/n1+ p2 * (1 - p2)/n2)\n",
    "    return (left_boundary, right_boundary)"
   ]
  },
  {
   "cell_type": "code",
   "execution_count": 121,
   "metadata": {},
   "outputs": [
    {
     "name": "stdout",
     "output_type": "stream",
     "text": [
      "P0:  (-0.011583241590025106, 0.04848883584089464)\n",
      "P2:  (0.0096187667380921195, 0.068322308856685027)\n"
     ]
    }
   ],
   "source": [
    "print('P0: 95%% confidence interval for a difference between proportions: ', \n",
    "      proportions_diff_confint_ind(p1,p0,n1,n0, alpha = 0.05))\n",
    "print('P2: 95%% confidence interval for a difference between proportions: ', \n",
    "      proportions_diff_confint_ind(p1,p2,n1,n2, alpha = 0.05))"
   ]
  },
  {
   "cell_type": "code",
   "execution_count": 125,
   "metadata": {
    "collapsed": true
   },
   "outputs": [],
   "source": [
    "def proportions_diff_z_stat_ind(p1,p2,n1,n2):\n",
    "    P = float(p1*n1 + p2*n2) / (n1 + n2)   \n",
    "    return (p1 - p2) / np.sqrt(P * (1 - P) * (1. / n1 + 1. / n2))"
   ]
  },
  {
   "cell_type": "code",
   "execution_count": 126,
   "metadata": {
    "collapsed": true
   },
   "outputs": [],
   "source": [
    "def proportions_diff_z_test(z_stat, alternative = 'two-sided'):\n",
    "        return 2 * (1 - scipy.stats.norm.cdf(np.abs(z_stat)))"
   ]
  },
  {
   "cell_type": "code",
   "execution_count": 128,
   "metadata": {},
   "outputs": [
    {
     "name": "stdout",
     "output_type": "stream",
     "text": [
      "p-value P0: 0.228331163905\n",
      "p-value P2: 0.00934808429445\n"
     ]
    }
   ],
   "source": [
    "pvalue0=proportions_diff_z_test(proportions_diff_z_stat_ind(p1,p0,n1,n0))\n",
    "pvalue2=proportions_diff_z_test(proportions_diff_z_stat_ind(p1,p2,n1,n2))\n",
    "print('p-value P0:', pvalue0)\n",
    "print('p-value P2:', pvalue2)"
   ]
  },
  {
   "cell_type": "code",
   "execution_count": 132,
   "metadata": {
    "collapsed": true
   },
   "outputs": [],
   "source": [
    "from statsmodels.sandbox.stats.multicomp import multipletests \n",
    "reject, p_corrected, a1, a2 = multipletests([pvalue0,pvalue2],alpha = 0.05, method = 'holm')"
   ]
  },
  {
   "cell_type": "code",
   "execution_count": 133,
   "metadata": {},
   "outputs": [
    {
     "data": {
      "text/plain": [
       "array([ 0.22833116,  0.01869617])"
      ]
     },
     "execution_count": 133,
     "metadata": {},
     "output_type": "execute_result"
    }
   ],
   "source": [
    "p_corrected"
   ]
  },
  {
   "cell_type": "markdown",
   "metadata": {},
   "source": [
    "Вьівод: treatment = 2 статистически значимо отличается от контрольной группы treatment = 1"
   ]
  },
  {
   "cell_type": "code",
   "execution_count": null,
   "metadata": {
    "collapsed": true
   },
   "outputs": [],
   "source": []
  }
 ],
 "metadata": {
  "kernelspec": {
   "display_name": "Python 3",
   "language": "python",
   "name": "python3"
  },
  "language_info": {
   "codemirror_mode": {
    "name": "ipython",
    "version": 3
   },
   "file_extension": ".py",
   "mimetype": "text/x-python",
   "name": "python",
   "nbconvert_exporter": "python",
   "pygments_lexer": "ipython3",
   "version": "3.6.2"
  }
 },
 "nbformat": 4,
 "nbformat_minor": 2
}
