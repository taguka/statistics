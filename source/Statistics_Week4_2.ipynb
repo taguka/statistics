{
 "cells": [
  {
   "cell_type": "markdown",
   "metadata": {},
   "source": [
    "В данном задании нужно: \n",
    "- проанализировать АБ тест, проведенный на реальных пользователях Яндекса\n",
    "- подтвердить или опровергнуть наличие изменений в пользовательском поведении между \n",
    "  контрольной (control) и тестовой (exp) группами\n",
    "- определить характер этих изменений и практическую значимость вводимого изменения\n",
    "  понять, какая из пользовательских групп более всего проигрывает / выигрывает от\n",
    "  тестируемого изменения (локализовать изменение)"
   ]
  },
  {
   "cell_type": "code",
   "execution_count": 47,
   "metadata": {
    "collapsed": true
   },
   "outputs": [],
   "source": [
    "import numpy as np\n",
    "import pandas as pd\n",
    "import pylab \n",
    "import scipy.stats\n",
    "from statsmodels.sandbox.stats.multicomp import multipletests "
   ]
  },
  {
   "cell_type": "code",
   "execution_count": 2,
   "metadata": {
    "collapsed": true
   },
   "outputs": [],
   "source": [
    "df=pd.read_csv('C:\\\\Study\\\\Statistics\\\\Week4\\\\ab_browser_test.csv')"
   ]
  },
  {
   "cell_type": "code",
   "execution_count": 3,
   "metadata": {},
   "outputs": [
    {
     "data": {
      "text/html": [
       "<div>\n",
       "<style>\n",
       "    .dataframe thead tr:only-child th {\n",
       "        text-align: right;\n",
       "    }\n",
       "\n",
       "    .dataframe thead th {\n",
       "        text-align: left;\n",
       "    }\n",
       "\n",
       "    .dataframe tbody tr th {\n",
       "        vertical-align: top;\n",
       "    }\n",
       "</style>\n",
       "<table border=\"1\" class=\"dataframe\">\n",
       "  <thead>\n",
       "    <tr style=\"text-align: right;\">\n",
       "      <th></th>\n",
       "      <th>userID</th>\n",
       "      <th>browser</th>\n",
       "      <th>slot</th>\n",
       "      <th>n_clicks</th>\n",
       "      <th>n_queries</th>\n",
       "      <th>n_nonclk_queries</th>\n",
       "    </tr>\n",
       "  </thead>\n",
       "  <tbody>\n",
       "    <tr>\n",
       "      <th>0</th>\n",
       "      <td>1</td>\n",
       "      <td>Browser #2</td>\n",
       "      <td>exp</td>\n",
       "      <td>23</td>\n",
       "      <td>32</td>\n",
       "      <td>19</td>\n",
       "    </tr>\n",
       "    <tr>\n",
       "      <th>1</th>\n",
       "      <td>3</td>\n",
       "      <td>Browser #4</td>\n",
       "      <td>exp</td>\n",
       "      <td>3</td>\n",
       "      <td>4</td>\n",
       "      <td>2</td>\n",
       "    </tr>\n",
       "    <tr>\n",
       "      <th>2</th>\n",
       "      <td>5</td>\n",
       "      <td>Browser #4</td>\n",
       "      <td>exp</td>\n",
       "      <td>29</td>\n",
       "      <td>35</td>\n",
       "      <td>16</td>\n",
       "    </tr>\n",
       "    <tr>\n",
       "      <th>3</th>\n",
       "      <td>6</td>\n",
       "      <td>Browser #4</td>\n",
       "      <td>control</td>\n",
       "      <td>12</td>\n",
       "      <td>6</td>\n",
       "      <td>0</td>\n",
       "    </tr>\n",
       "    <tr>\n",
       "      <th>4</th>\n",
       "      <td>7</td>\n",
       "      <td>Browser #4</td>\n",
       "      <td>exp</td>\n",
       "      <td>54</td>\n",
       "      <td>68</td>\n",
       "      <td>30</td>\n",
       "    </tr>\n",
       "  </tbody>\n",
       "</table>\n",
       "</div>"
      ],
      "text/plain": [
       "   userID     browser     slot  n_clicks  n_queries  n_nonclk_queries\n",
       "0       1  Browser #2      exp        23         32                19\n",
       "1       3  Browser #4      exp         3          4                 2\n",
       "2       5  Browser #4      exp        29         35                16\n",
       "3       6  Browser #4  control        12          6                 0\n",
       "4       7  Browser #4      exp        54         68                30"
      ]
     },
     "execution_count": 3,
     "metadata": {},
     "output_type": "execute_result"
    }
   ],
   "source": [
    "df.head()"
   ]
  },
  {
   "cell_type": "code",
   "execution_count": 4,
   "metadata": {},
   "outputs": [
    {
     "data": {
      "text/plain": [
       "(566134, 6)"
      ]
     },
     "execution_count": 4,
     "metadata": {},
     "output_type": "execute_result"
    }
   ],
   "source": [
    "df.shape"
   ]
  },
  {
   "cell_type": "code",
   "execution_count": 5,
   "metadata": {
    "collapsed": true
   },
   "outputs": [],
   "source": [
    "df_exp=df.loc[df['slot']=='exp',['userID','n_clicks']]\n",
    "df_control=df.loc[df['slot']=='control',['userID','n_clicks']]"
   ]
  },
  {
   "cell_type": "code",
   "execution_count": 6,
   "metadata": {
    "collapsed": true
   },
   "outputs": [],
   "source": [
    "df_exp=df_exp.groupby('userID').sum()\n",
    "df_control=df_control.groupby('userID').sum()"
   ]
  },
  {
   "cell_type": "markdown",
   "metadata": {},
   "source": [
    "Посчитаем, насколько в группе exp больше пользовательских кликов по сравнению с \n",
    "группой control в процентах от числа кликов в контрольной группе."
   ]
  },
  {
   "cell_type": "code",
   "execution_count": 7,
   "metadata": {},
   "outputs": [
    {
     "name": "stdout",
     "output_type": "stream",
     "text": [
      "На сколько процентов больше:  1.614\n"
     ]
    }
   ],
   "source": [
    "per_clicks=np.sum(df_exp.n_clicks)/np.sum(df_control.n_clicks)*100-100\n",
    "print('На сколько процентов больше: ',round(per_clicks,3))"
   ]
  },
  {
   "cell_type": "markdown",
   "metadata": {},
   "source": [
    "Построим с помощью бутстрепа 95% доверительный интервал для средних значений и медиан \n",
    "количества кликов в каждой из двух групп."
   ]
  },
  {
   "cell_type": "code",
   "execution_count": 8,
   "metadata": {
    "collapsed": true
   },
   "outputs": [],
   "source": [
    "def get_median(data, n_samples):\n",
    "    lst_median=[]\n",
    "    for i in range(n_samples):\n",
    "        indices = np.random.randint(0, len(data), len(data))\n",
    "        sample=data.iloc[indices]\n",
    "        lst_median.append(np.median(sample.n_clicks))\n",
    "    return lst_median"
   ]
  },
  {
   "cell_type": "code",
   "execution_count": 9,
   "metadata": {
    "collapsed": true
   },
   "outputs": [],
   "source": [
    "def get_mean(data, n_samples):\n",
    "    lst_mean=[]\n",
    "    for i in range(n_samples):\n",
    "        indices = np.random.randint(0, len(data), len(data))\n",
    "        sample=data.iloc[indices]\n",
    "        lst_mean.append(np.mean(sample.n_clicks))\n",
    "    return lst_mean"
   ]
  },
  {
   "cell_type": "code",
   "execution_count": 10,
   "metadata": {
    "collapsed": true
   },
   "outputs": [],
   "source": [
    "list_median_exp=get_median(df_exp, 1000)\n",
    "list_median_control=get_median(df_control, 1000)\n",
    "list_mean_exp=get_mean(df_exp, 1000)\n",
    "list_mean_control=get_mean(df_control, 1000)"
   ]
  },
  {
   "cell_type": "code",
   "execution_count": 11,
   "metadata": {
    "collapsed": true
   },
   "outputs": [],
   "source": [
    "delta_median  = list(map(lambda x: x[1] - x[0], zip(list_median_exp, list_median_control)))\n",
    "delta_mean  = list(map(lambda x: x[1] - x[0], zip(list_mean_exp, list_mean_control)))"
   ]
  },
  {
   "cell_type": "code",
   "execution_count": 12,
   "metadata": {
    "collapsed": true
   },
   "outputs": [],
   "source": [
    "def stat_intervals(stat, alpha):\n",
    "    boundaries = np.percentile(stat, [100 * alpha / 2., 100 * (1 - alpha / 2.)])\n",
    "    return boundaries"
   ]
  },
  {
   "cell_type": "code",
   "execution_count": 13,
   "metadata": {},
   "outputs": [
    {
     "name": "stdout",
     "output_type": "stream",
     "text": [
      "95% confidence interval for the difference between medians: [-1. -1.]\n",
      "95% confidence interval for the difference between means: [-0.41090969 -0.19704832]\n"
     ]
    }
   ],
   "source": [
    "print (\"95% confidence interval for the difference between medians:\",  \n",
    "       stat_intervals(delta_median, 0.05))\n",
    "print (\"95% confidence interval for the difference between means:\",  \n",
    "       stat_intervals(delta_mean, 0.05))"
   ]
  },
  {
   "cell_type": "code",
   "execution_count": 14,
   "metadata": {},
   "outputs": [
    {
     "data": {
      "image/png": "[encoded data removed]",
      "text/plain": [
       "<matplotlib.figure.Figure at 0x1dd497f10f0>"
      ]
     },
     "metadata": {},
     "output_type": "display_data"
    }
   ],
   "source": [
    "scipy.stats.probplot(df_exp.n_clicks, dist=\"norm\", plot=pylab)\n",
    "pylab.show()"
   ]
  },
  {
   "cell_type": "code",
   "execution_count": 15,
   "metadata": {},
   "outputs": [
    {
     "data": {
      "image/png": "[encoded data removed]",
      "text/plain": [
       "<matplotlib.figure.Figure at 0x1dd497f1898>"
      ]
     },
     "metadata": {},
     "output_type": "display_data"
    }
   ],
   "source": [
    "scipy.stats.probplot(df_control.n_clicks, dist=\"norm\", plot=pylab)\n",
    "pylab.show()"
   ]
  },
  {
   "cell_type": "markdown",
   "metadata": {},
   "source": [
    "Поскольку мы не знаем истинного распределения генеральной совокупности, мы можем применить бутстреп,\n",
    "чтобы понять, как распределены среднее значение и выборочная дисперсия."
   ]
  },
  {
   "cell_type": "code",
   "execution_count": 16,
   "metadata": {
    "collapsed": true
   },
   "outputs": [],
   "source": [
    "np.random.seed(0)\n",
    "n_boot_samples = 500"
   ]
  },
  {
   "cell_type": "code",
   "execution_count": 126,
   "metadata": {
    "collapsed": true
   },
   "outputs": [],
   "source": [
    "def get_bootstrap_samples(data, n_samples):\n",
    "    indices = np.random.randint(0, len(data), (n_samples, len(data)))\n",
    "    samples = data[indices]\n",
    "    return samples"
   ]
  },
  {
   "cell_type": "code",
   "execution_count": 128,
   "metadata": {
    "collapsed": true
   },
   "outputs": [],
   "source": [
    "samples=get_bootstrap_samples(df_control.n_clicks.values, n_boot_samples)"
   ]
  },
  {
   "cell_type": "code",
   "execution_count": 131,
   "metadata": {
    "collapsed": true
   },
   "outputs": [],
   "source": [
    "samples_mean=np.mean(samples, axis=1)"
   ]
  },
  {
   "cell_type": "code",
   "execution_count": 139,
   "metadata": {
    "collapsed": true
   },
   "outputs": [],
   "source": [
    "samples_chi_squared=np.sum(np.square(samples-samples_mean.reshape(-1,1)),axis=1)/n_boot_samples"
   ]
  },
  {
   "cell_type": "code",
   "execution_count": 150,
   "metadata": {},
   "outputs": [
    {
     "data": {
      "image/png": "[encoded data removed]",
      "text/plain": [
       "<matplotlib.figure.Figure at 0x1ec039accf8>"
      ]
     },
     "metadata": {},
     "output_type": "display_data"
    }
   ],
   "source": [
    "(_,_), (_,_,r)=scipy.stats.probplot(samples_mean, dist=\"norm\", plot=pylab)\n",
    "pylab.show()"
   ]
  },
  {
   "cell_type": "code",
   "execution_count": 153,
   "metadata": {},
   "outputs": [
    {
     "name": "stdout",
     "output_type": "stream",
     "text": [
      "R2 normal 0.998389402505\n"
     ]
    }
   ],
   "source": [
    "print('R2 normal', np.square(r))"
   ]
  },
  {
   "cell_type": "code",
   "execution_count": 154,
   "metadata": {},
   "outputs": [
    {
     "data": {
      "image/png": "[encoded data removed]",
      "text/plain": [
       "<matplotlib.figure.Figure at 0x1ec04ad6160>"
      ]
     },
     "metadata": {},
     "output_type": "display_data"
    }
   ],
   "source": [
    "(_,_), (_,_,r)=scipy.stats.probplot(samples_chi_squared, dist=\"chi2\", \n",
    "                     sparams=(n_boot_samples-1), plot=pylab)\n",
    "pylab.show()"
   ]
  },
  {
   "cell_type": "code",
   "execution_count": 155,
   "metadata": {},
   "outputs": [
    {
     "name": "stdout",
     "output_type": "stream",
     "text": [
      "R2 che_squared 0.99563756198\n"
     ]
    }
   ],
   "source": [
    "print('R2 che_squared', np.square(r))"
   ]
  },
  {
   "cell_type": "markdown",
   "metadata": {
    "collapsed": true
   },
   "source": [
    "Преобразуем данные к виду, чтобы каждому пользователю соответствовало суммарное значение \n",
    "его кликов. С помощью критерия Манна-Уитни проверим гипотезу о равенстве средних. "
   ]
  },
  {
   "cell_type": "code",
   "execution_count": 17,
   "metadata": {
    "collapsed": true
   },
   "outputs": [],
   "source": [
    "statistic, pvalue=scipy.stats.mannwhitneyu(df_exp.n_clicks, df_control.n_clicks,\n",
    "                                           alternative='two-sided')"
   ]
  },
  {
   "cell_type": "code",
   "execution_count": 18,
   "metadata": {},
   "outputs": [
    {
     "name": "stdout",
     "output_type": "stream",
     "text": [
      "P-value mann whitneyu:  8.69429437752e-75\n"
     ]
    }
   ],
   "source": [
    "print('P-value mann whitneyu: ', pvalue)"
   ]
  },
  {
   "cell_type": "markdown",
   "metadata": {},
   "source": [
    "Проверим для какого из браузеров наиболее сильно выражено отличие между количеством \n",
    "кликов в контрольной и экспериментальной группах.\n",
    "Для этого применим для каждого из срезов (по каждому из уникальных значений столбца browser) \n",
    "критерий Манна-Уитни между control и exp группами и сделаем поправку Холма-Бонферрони на \n",
    "множественную проверку с α=0.05."
   ]
  },
  {
   "cell_type": "code",
   "execution_count": 51,
   "metadata": {
    "collapsed": true
   },
   "outputs": [],
   "source": [
    "df_exp=df.loc[df['slot']=='exp',['browser','n_clicks','n_nonclk_queries','n_queries']]\n",
    "df_control=df.loc[df['slot']=='control',['browser','n_clicks','n_nonclk_queries','n_queries']]"
   ]
  },
  {
   "cell_type": "code",
   "execution_count": 41,
   "metadata": {},
   "outputs": [
    {
     "data": {
      "text/plain": [
       "['Browser #2',\n",
       " 'Browser #4',\n",
       " 'Browser #14',\n",
       " 'Browser #17',\n",
       " 'Browser #20',\n",
       " 'Browser #22']"
      ]
     },
     "execution_count": 41,
     "metadata": {},
     "output_type": "execute_result"
    }
   ],
   "source": [
    "lst_browser=df_exp.browser.unique().tolist()"
   ]
  },
  {
   "cell_type": "code",
   "execution_count": 44,
   "metadata": {},
   "outputs": [],
   "source": [
    "lst_p=[]\n",
    "for browser in lst_browser:\n",
    "    browser_exp=df_exp.loc[df_exp['browser']==browser,'n_clicks'].values\n",
    "    browser_control=df_control.loc[df_control['browser']==browser,'n_clicks'].values\n",
    "    _, p=scipy.stats.mannwhitneyu(browser_exp,browser_control,alternative='two-sided')\n",
    "    lst_p.append(p)"
   ]
  },
  {
   "cell_type": "code",
   "execution_count": 48,
   "metadata": {},
   "outputs": [],
   "source": [
    "reject, p_corrected, a1, a2 = multipletests(lst_p,alpha = 0.05, method = 'holm')"
   ]
  },
  {
   "cell_type": "code",
   "execution_count": 49,
   "metadata": {},
   "outputs": [
    {
     "data": {
      "text/plain": [
       "array([ 0.2724386 ,  1.        ,  0.        ,  0.29920481,  1.        ,  1.        ])"
      ]
     },
     "execution_count": 49,
     "metadata": {},
     "output_type": "execute_result"
    }
   ],
   "source": [
    "p_corrected"
   ]
  },
  {
   "cell_type": "code",
   "execution_count": 50,
   "metadata": {},
   "outputs": [
    {
     "data": {
      "text/plain": [
       "[0.054487720839448202,\n",
       " 0.81521235316909968,\n",
       " 0.0,\n",
       " 0.074801202860216034,\n",
       " 0.90733312777470754,\n",
       " 0.51481103044200638]"
      ]
     },
     "execution_count": 50,
     "metadata": {},
     "output_type": "execute_result"
    }
   ],
   "source": [
    "lst_p"
   ]
  },
  {
   "cell_type": "code",
   "execution_count": 59,
   "metadata": {
    "collapsed": true
   },
   "outputs": [],
   "source": [
    "exp_clicks=df_exp.groupby(['browser'])['n_nonclk_queries','n_queries'].sum()\n",
    "control_clicks=df_control.groupby(['browser'])['n_nonclk_queries','n_queries'].sum()"
   ]
  },
  {
   "cell_type": "code",
   "execution_count": 60,
   "metadata": {},
   "outputs": [],
   "source": [
    "exp_clicks['perc']=exp_clicks['n_nonclk_queries']/exp_clicks['n_queries']\n",
    "control_clicks['perc']=control_clicks['n_nonclk_queries']/exp_clicks['n_queries']"
   ]
  },
  {
   "cell_type": "code",
   "execution_count": 61,
   "metadata": {},
   "outputs": [
    {
     "data": {
      "text/html": [
       "<div>\n",
       "<style>\n",
       "    .dataframe thead tr:only-child th {\n",
       "        text-align: right;\n",
       "    }\n",
       "\n",
       "    .dataframe thead th {\n",
       "        text-align: left;\n",
       "    }\n",
       "\n",
       "    .dataframe tbody tr th {\n",
       "        vertical-align: top;\n",
       "    }\n",
       "</style>\n",
       "<table border=\"1\" class=\"dataframe\">\n",
       "  <thead>\n",
       "    <tr style=\"text-align: right;\">\n",
       "      <th></th>\n",
       "      <th>n_nonclk_queries</th>\n",
       "      <th>n_queries</th>\n",
       "      <th>perc</th>\n",
       "      <th>perc_control</th>\n",
       "    </tr>\n",
       "    <tr>\n",
       "      <th>browser</th>\n",
       "      <th></th>\n",
       "      <th></th>\n",
       "      <th></th>\n",
       "      <th></th>\n",
       "    </tr>\n",
       "  </thead>\n",
       "  <tbody>\n",
       "    <tr>\n",
       "      <th>Browser #14</th>\n",
       "      <td>123656</td>\n",
       "      <td>282606</td>\n",
       "      <td>0.437556</td>\n",
       "      <td>0.570589</td>\n",
       "    </tr>\n",
       "    <tr>\n",
       "      <th>Browser #17</th>\n",
       "      <td>77614</td>\n",
       "      <td>210123</td>\n",
       "      <td>0.369374</td>\n",
       "      <td>0.360917</td>\n",
       "    </tr>\n",
       "    <tr>\n",
       "      <th>Browser #2</th>\n",
       "      <td>246514</td>\n",
       "      <td>548019</td>\n",
       "      <td>0.449827</td>\n",
       "      <td>0.474909</td>\n",
       "    </tr>\n",
       "    <tr>\n",
       "      <th>Browser #20</th>\n",
       "      <td>72998</td>\n",
       "      <td>187283</td>\n",
       "      <td>0.389774</td>\n",
       "      <td>0.419408</td>\n",
       "    </tr>\n",
       "    <tr>\n",
       "      <th>Browser #22</th>\n",
       "      <td>296177</td>\n",
       "      <td>743156</td>\n",
       "      <td>0.398539</td>\n",
       "      <td>0.424500</td>\n",
       "    </tr>\n",
       "    <tr>\n",
       "      <th>Browser #4</th>\n",
       "      <td>456508</td>\n",
       "      <td>1011250</td>\n",
       "      <td>0.451429</td>\n",
       "      <td>0.492711</td>\n",
       "    </tr>\n",
       "  </tbody>\n",
       "</table>\n",
       "</div>"
      ],
      "text/plain": [
       "             n_nonclk_queries  n_queries      perc  perc_control\n",
       "browser                                                         \n",
       "Browser #14            123656     282606  0.437556      0.570589\n",
       "Browser #17             77614     210123  0.369374      0.360917\n",
       "Browser #2             246514     548019  0.449827      0.474909\n",
       "Browser #20             72998     187283  0.389774      0.419408\n",
       "Browser #22            296177     743156  0.398539      0.424500\n",
       "Browser #4             456508    1011250  0.451429      0.492711"
      ]
     },
     "execution_count": 61,
     "metadata": {},
     "output_type": "execute_result"
    }
   ],
   "source": [
    "exp_clicks['perc_control']=control_clicks['perc']\n",
    "exp_clicks"
   ]
  },
  {
   "cell_type": "code",
   "execution_count": null,
   "metadata": {
    "collapsed": true
   },
   "outputs": [],
   "source": []
  }
 ],
 "metadata": {
  "kernelspec": {
   "display_name": "Python 3",
   "language": "python",
   "name": "python3"
  },
  "language_info": {
   "codemirror_mode": {
    "name": "ipython",
    "version": 3
   },
   "file_extension": ".py",
   "mimetype": "text/x-python",
   "name": "python",
   "nbconvert_exporter": "python",
   "pygments_lexer": "ipython3",
   "version": "3.6.2"
  }
 },
 "nbformat": 4,
 "nbformat_minor": 2
}
